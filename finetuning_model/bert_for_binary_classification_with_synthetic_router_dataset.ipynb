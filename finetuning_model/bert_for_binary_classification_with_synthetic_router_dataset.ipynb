{
  "cells": [
    {
      "cell_type": "markdown",
      "metadata": {
        "_cell_guid": "b1076dfc-b9ad-4769-8c92-a6c4dae69d19",
        "_uuid": "8f2839f25d086af736a60e9eeb907d3b93b6e0e5",
        "execution": {
          "iopub.execute_input": "2024-02-27T13:28:27.114338Z",
          "iopub.status.busy": "2024-02-27T13:28:27.113872Z",
          "iopub.status.idle": "2024-02-27T13:28:35.001985Z",
          "shell.execute_reply": "2024-02-27T13:28:35.00097Z",
          "shell.execute_reply.started": "2024-02-27T13:28:27.114299Z"
        },
        "id": "hLv-ojMWk6n3"
      },
      "source": [
        "# Finetuning BERT for Routing\n",
        "\n",
        "\n",
        "BERT (Bidirectional Encoder Representations from Transformers) is one of the most popular small language models that be used for finetuning. It was a breakthrough model that was developed by Google and set new standards for understanding human language.\n",
        "In this notebook I will use BERT with the huggingface PyTorch library to efficiently fine-tune a model to work as router. More specifically, I will create a binary classifier using the synthetic dataset we create. The architecture of the model can be exteneded to multilabel classification, in case we want to route between more models."
      ]
    },
    {
      "cell_type": "markdown",
      "metadata": {
        "id": "uYhWbaaFFMv5"
      },
      "source": [
        "## Imports"
      ]
    },
    {
      "cell_type": "code",
      "execution_count": 6,
      "metadata": {
        "id": "sSCPO0DjQZQU"
      },
      "outputs": [],
      "source": [
        "# usual data analysis tools\n",
        "import pandas as pd\n",
        "import matplotlib.pyplot as plt\n",
        "import seaborn as sns\n",
        "import numpy as np\n",
        "from sklearn.model_selection import train_test_split\n",
        "from sklearn.metrics import accuracy_score, precision_recall_fscore_support\n",
        "\n",
        "# popular general purpose libraries\n",
        "from collections import Counter\n",
        "import os\n",
        "import datetime\n",
        "import time\n",
        "import json\n",
        "from tabulate import tabulate\n",
        "# import warnings\n",
        "# warnings.filterwarnings(\"ignore\")\n",
        "\n",
        "# machine learning / tensor libraries\n",
        "import torch\n",
        "from torch import cuda\n",
        "torch.cuda.empty_cache()\n",
        "device = 'cuda' if cuda.is_available() else 'cpu'\n",
        "\n",
        "from torch.utils.data import DataLoader, Dataset\n",
        "from transformers import AutoTokenizer, BertForSequenceClassification, AdamW, BertConfig\n",
        "\n",
        "# to save to google drive\n",
        "from google.colab import drive"
      ]
    },
    {
      "cell_type": "markdown",
      "metadata": {
        "id": "nJ4RZk1E3vQV"
      },
      "source": [
        "## Setting Hyperaparameters\n",
        "\n",
        "This structure will control the basic aspects of training. Namely, which model will be used, epochs, batch size, learning rate, etc.\n",
        "\n"
      ]
    },
    {
      "cell_type": "markdown",
      "metadata": {
        "id": "a-FCNvn2k6n4"
      },
      "source": [
        "Throught the hugging face API, we can actually select between different variants of the BERT model. The original and most famous is the original [BERT](https://huggingface.co/docs/transformers/en/model_doc/bert) model (`google-bert/bert-base-uncased`). Other popular implementations are [DistilBERT](https://huggingface.co/docs/transformers/en/model_doc/distilbert) (`distilbert/distilbert-base-uncased`), [RoBERTa](https://huggingface.co/docs/transformers/en/model_doc/roberta) (`FacebookAI/roberta-base`, `distilbert/distilroberta-base`) and [DeBERTa](https://huggingface.co/docs/transformers/en/model_doc/deberta-v2)."
      ]
    },
    {
      "cell_type": "code",
      "execution_count": 7,
      "metadata": {
        "id": "L9w7-0hYqSN1"
      },
      "outputs": [],
      "source": [
        "HPARAMS = {\n",
        "    'lr': 2e-6,\n",
        "    'eps': 1e-8,\n",
        "    'epochs': 4,\n",
        "    'batch_size': 8,\n",
        "    'hf_model_name': \"bert-base-uncased\",\n",
        "    'make_balanced': True,\n",
        "}"
      ]
    },
    {
      "cell_type": "markdown",
      "metadata": {
        "id": "KSfcuWh6k6n4"
      },
      "source": [
        "## Read Data\n",
        "\n",
        "Let's load the data into dataframes and split into train, validation and test. Note that `make_balanced` and `max_length` input parameters control two major aspect of our data that will affect our training dataset and hence our model during finetuning."
      ]
    },
    {
      "cell_type": "code",
      "execution_count": 8,
      "metadata": {
        "colab": {
          "base_uri": "https://localhost:8080/",
          "height": 224
        },
        "id": "9s6EvVump-T2",
        "outputId": "ac9c330a-fb2b-4b26-e26f-7ba9de18b2a1"
      },
      "outputs": [
        {
          "name": "stdout",
          "output_type": "stream",
          "text": [
            "Counter({0: 2019, 1: 2019})\n"
          ]
        },
        {
          "data": {
            "application/vnd.google.colaboratory.intrinsic+json": {
              "summary": "{\n  \"name\": \"router_df\",\n  \"rows\": 4038,\n  \"fields\": [\n    {\n      \"column\": \"text\",\n      \"properties\": {\n        \"dtype\": \"string\",\n        \"num_unique_values\": 3979,\n        \"samples\": [\n          \"A circular park has 4 entrances, one on each side. What is the shortest path to visit all gates?\",\n          \"list five random dates in australian date format - day, month, year\",\n          \"Can you suggest a quiet cafe near my workplace at 60 margaret St, Sydney to have lunch today with my boss, NAME_1\"\n        ],\n        \"semantic_type\": \"\",\n        \"description\": \"\"\n      }\n    },\n    {\n      \"column\": \"target\",\n      \"properties\": {\n        \"dtype\": \"number\",\n        \"std\": 0,\n        \"min\": 0,\n        \"max\": 1,\n        \"num_unique_values\": 2,\n        \"samples\": [\n          1,\n          0\n        ],\n        \"semantic_type\": \"\",\n        \"description\": \"\"\n      }\n    }\n  ]\n}",
              "type": "dataframe",
              "variable_name": "router_df"
            },
            "text/html": [
              "\n",
              "  <div id=\"df-3e7c070e-610d-47d7-90d8-f66198390ab3\" class=\"colab-df-container\">\n",
              "    <div>\n",
              "<style scoped>\n",
              "    .dataframe tbody tr th:only-of-type {\n",
              "        vertical-align: middle;\n",
              "    }\n",
              "\n",
              "    .dataframe tbody tr th {\n",
              "        vertical-align: top;\n",
              "    }\n",
              "\n",
              "    .dataframe thead th {\n",
              "        text-align: right;\n",
              "    }\n",
              "</style>\n",
              "<table border=\"1\" class=\"dataframe\">\n",
              "  <thead>\n",
              "    <tr style=\"text-align: right;\">\n",
              "      <th></th>\n",
              "      <th>text</th>\n",
              "      <th>target</th>\n",
              "    </tr>\n",
              "  </thead>\n",
              "  <tbody>\n",
              "    <tr>\n",
              "      <th>0</th>\n",
              "      <td>write a email to congratulate new students adm...</td>\n",
              "      <td>0</td>\n",
              "    </tr>\n",
              "    <tr>\n",
              "      <th>1</th>\n",
              "      <td>Create a slide outline to show how I used a na...</td>\n",
              "      <td>1</td>\n",
              "    </tr>\n",
              "    <tr>\n",
              "      <th>2</th>\n",
              "      <td>I will send you 10 transcriptions of videos, a...</td>\n",
              "      <td>0</td>\n",
              "    </tr>\n",
              "    <tr>\n",
              "      <th>3</th>\n",
              "      <td>What would be an affective thing to call a bla...</td>\n",
              "      <td>1</td>\n",
              "    </tr>\n",
              "    <tr>\n",
              "      <th>4</th>\n",
              "      <td>Can I use blktrace on an NVMe device loaded on...</td>\n",
              "      <td>1</td>\n",
              "    </tr>\n",
              "  </tbody>\n",
              "</table>\n",
              "</div>\n",
              "    <div class=\"colab-df-buttons\">\n",
              "\n",
              "  <div class=\"colab-df-container\">\n",
              "    <button class=\"colab-df-convert\" onclick=\"convertToInteractive('df-3e7c070e-610d-47d7-90d8-f66198390ab3')\"\n",
              "            title=\"Convert this dataframe to an interactive table.\"\n",
              "            style=\"display:none;\">\n",
              "\n",
              "  <svg xmlns=\"http://www.w3.org/2000/svg\" height=\"24px\" viewBox=\"0 -960 960 960\">\n",
              "    <path d=\"M120-120v-720h720v720H120Zm60-500h600v-160H180v160Zm220 220h160v-160H400v160Zm0 220h160v-160H400v160ZM180-400h160v-160H180v160Zm440 0h160v-160H620v160ZM180-180h160v-160H180v160Zm440 0h160v-160H620v160Z\"/>\n",
              "  </svg>\n",
              "    </button>\n",
              "\n",
              "  <style>\n",
              "    .colab-df-container {\n",
              "      display:flex;\n",
              "      gap: 12px;\n",
              "    }\n",
              "\n",
              "    .colab-df-convert {\n",
              "      background-color: #E8F0FE;\n",
              "      border: none;\n",
              "      border-radius: 50%;\n",
              "      cursor: pointer;\n",
              "      display: none;\n",
              "      fill: #1967D2;\n",
              "      height: 32px;\n",
              "      padding: 0 0 0 0;\n",
              "      width: 32px;\n",
              "    }\n",
              "\n",
              "    .colab-df-convert:hover {\n",
              "      background-color: #E2EBFA;\n",
              "      box-shadow: 0px 1px 2px rgba(60, 64, 67, 0.3), 0px 1px 3px 1px rgba(60, 64, 67, 0.15);\n",
              "      fill: #174EA6;\n",
              "    }\n",
              "\n",
              "    .colab-df-buttons div {\n",
              "      margin-bottom: 4px;\n",
              "    }\n",
              "\n",
              "    [theme=dark] .colab-df-convert {\n",
              "      background-color: #3B4455;\n",
              "      fill: #D2E3FC;\n",
              "    }\n",
              "\n",
              "    [theme=dark] .colab-df-convert:hover {\n",
              "      background-color: #434B5C;\n",
              "      box-shadow: 0px 1px 3px 1px rgba(0, 0, 0, 0.15);\n",
              "      filter: drop-shadow(0px 1px 2px rgba(0, 0, 0, 0.3));\n",
              "      fill: #FFFFFF;\n",
              "    }\n",
              "  </style>\n",
              "\n",
              "    <script>\n",
              "      const buttonEl =\n",
              "        document.querySelector('#df-3e7c070e-610d-47d7-90d8-f66198390ab3 button.colab-df-convert');\n",
              "      buttonEl.style.display =\n",
              "        google.colab.kernel.accessAllowed ? 'block' : 'none';\n",
              "\n",
              "      async function convertToInteractive(key) {\n",
              "        const element = document.querySelector('#df-3e7c070e-610d-47d7-90d8-f66198390ab3');\n",
              "        const dataTable =\n",
              "          await google.colab.kernel.invokeFunction('convertToInteractive',\n",
              "                                                    [key], {});\n",
              "        if (!dataTable) return;\n",
              "\n",
              "        const docLinkHtml = 'Like what you see? Visit the ' +\n",
              "          '<a target=\"_blank\" href=https://colab.research.google.com/notebooks/data_table.ipynb>data table notebook</a>'\n",
              "          + ' to learn more about interactive tables.';\n",
              "        element.innerHTML = '';\n",
              "        dataTable['output_type'] = 'display_data';\n",
              "        await google.colab.output.renderOutput(dataTable, element);\n",
              "        const docLink = document.createElement('div');\n",
              "        docLink.innerHTML = docLinkHtml;\n",
              "        element.appendChild(docLink);\n",
              "      }\n",
              "    </script>\n",
              "  </div>\n",
              "\n",
              "\n",
              "<div id=\"df-942e363d-409e-4113-8aea-a74af9c9b320\">\n",
              "  <button class=\"colab-df-quickchart\" onclick=\"quickchart('df-942e363d-409e-4113-8aea-a74af9c9b320')\"\n",
              "            title=\"Suggest charts\"\n",
              "            style=\"display:none;\">\n",
              "\n",
              "<svg xmlns=\"http://www.w3.org/2000/svg\" height=\"24px\"viewBox=\"0 0 24 24\"\n",
              "     width=\"24px\">\n",
              "    <g>\n",
              "        <path d=\"M19 3H5c-1.1 0-2 .9-2 2v14c0 1.1.9 2 2 2h14c1.1 0 2-.9 2-2V5c0-1.1-.9-2-2-2zM9 17H7v-7h2v7zm4 0h-2V7h2v10zm4 0h-2v-4h2v4z\"/>\n",
              "    </g>\n",
              "</svg>\n",
              "  </button>\n",
              "\n",
              "<style>\n",
              "  .colab-df-quickchart {\n",
              "      --bg-color: #E8F0FE;\n",
              "      --fill-color: #1967D2;\n",
              "      --hover-bg-color: #E2EBFA;\n",
              "      --hover-fill-color: #174EA6;\n",
              "      --disabled-fill-color: #AAA;\n",
              "      --disabled-bg-color: #DDD;\n",
              "  }\n",
              "\n",
              "  [theme=dark] .colab-df-quickchart {\n",
              "      --bg-color: #3B4455;\n",
              "      --fill-color: #D2E3FC;\n",
              "      --hover-bg-color: #434B5C;\n",
              "      --hover-fill-color: #FFFFFF;\n",
              "      --disabled-bg-color: #3B4455;\n",
              "      --disabled-fill-color: #666;\n",
              "  }\n",
              "\n",
              "  .colab-df-quickchart {\n",
              "    background-color: var(--bg-color);\n",
              "    border: none;\n",
              "    border-radius: 50%;\n",
              "    cursor: pointer;\n",
              "    display: none;\n",
              "    fill: var(--fill-color);\n",
              "    height: 32px;\n",
              "    padding: 0;\n",
              "    width: 32px;\n",
              "  }\n",
              "\n",
              "  .colab-df-quickchart:hover {\n",
              "    background-color: var(--hover-bg-color);\n",
              "    box-shadow: 0 1px 2px rgba(60, 64, 67, 0.3), 0 1px 3px 1px rgba(60, 64, 67, 0.15);\n",
              "    fill: var(--button-hover-fill-color);\n",
              "  }\n",
              "\n",
              "  .colab-df-quickchart-complete:disabled,\n",
              "  .colab-df-quickchart-complete:disabled:hover {\n",
              "    background-color: var(--disabled-bg-color);\n",
              "    fill: var(--disabled-fill-color);\n",
              "    box-shadow: none;\n",
              "  }\n",
              "\n",
              "  .colab-df-spinner {\n",
              "    border: 2px solid var(--fill-color);\n",
              "    border-color: transparent;\n",
              "    border-bottom-color: var(--fill-color);\n",
              "    animation:\n",
              "      spin 1s steps(1) infinite;\n",
              "  }\n",
              "\n",
              "  @keyframes spin {\n",
              "    0% {\n",
              "      border-color: transparent;\n",
              "      border-bottom-color: var(--fill-color);\n",
              "      border-left-color: var(--fill-color);\n",
              "    }\n",
              "    20% {\n",
              "      border-color: transparent;\n",
              "      border-left-color: var(--fill-color);\n",
              "      border-top-color: var(--fill-color);\n",
              "    }\n",
              "    30% {\n",
              "      border-color: transparent;\n",
              "      border-left-color: var(--fill-color);\n",
              "      border-top-color: var(--fill-color);\n",
              "      border-right-color: var(--fill-color);\n",
              "    }\n",
              "    40% {\n",
              "      border-color: transparent;\n",
              "      border-right-color: var(--fill-color);\n",
              "      border-top-color: var(--fill-color);\n",
              "    }\n",
              "    60% {\n",
              "      border-color: transparent;\n",
              "      border-right-color: var(--fill-color);\n",
              "    }\n",
              "    80% {\n",
              "      border-color: transparent;\n",
              "      border-right-color: var(--fill-color);\n",
              "      border-bottom-color: var(--fill-color);\n",
              "    }\n",
              "    90% {\n",
              "      border-color: transparent;\n",
              "      border-bottom-color: var(--fill-color);\n",
              "    }\n",
              "  }\n",
              "</style>\n",
              "\n",
              "  <script>\n",
              "    async function quickchart(key) {\n",
              "      const quickchartButtonEl =\n",
              "        document.querySelector('#' + key + ' button');\n",
              "      quickchartButtonEl.disabled = true;  // To prevent multiple clicks.\n",
              "      quickchartButtonEl.classList.add('colab-df-spinner');\n",
              "      try {\n",
              "        const charts = await google.colab.kernel.invokeFunction(\n",
              "            'suggestCharts', [key], {});\n",
              "      } catch (error) {\n",
              "        console.error('Error during call to suggestCharts:', error);\n",
              "      }\n",
              "      quickchartButtonEl.classList.remove('colab-df-spinner');\n",
              "      quickchartButtonEl.classList.add('colab-df-quickchart-complete');\n",
              "    }\n",
              "    (() => {\n",
              "      let quickchartButtonEl =\n",
              "        document.querySelector('#df-942e363d-409e-4113-8aea-a74af9c9b320 button');\n",
              "      quickchartButtonEl.style.display =\n",
              "        google.colab.kernel.accessAllowed ? 'block' : 'none';\n",
              "    })();\n",
              "  </script>\n",
              "</div>\n",
              "\n",
              "    </div>\n",
              "  </div>\n"
            ],
            "text/plain": [
              "                                                text  target\n",
              "0  write a email to congratulate new students adm...       0\n",
              "1  Create a slide outline to show how I used a na...       1\n",
              "2  I will send you 10 transcriptions of videos, a...       0\n",
              "3  What would be an affective thing to call a bla...       1\n",
              "4  Can I use blktrace on an NVMe device loaded on...       1"
            ]
          },
          "execution_count": 8,
          "metadata": {},
          "output_type": "execute_result"
        }
      ],
      "source": [
        "# first dataset option\n",
        "def import_df_from_jsonl_file(filepath):\n",
        "    return pd.read_json(filepath, lines=True)\n",
        "\n",
        "router_df = import_df_from_jsonl_file('router_dataset_all.jsonl')\n",
        "\n",
        "def process_synthetic_dataset(df, make_balanced, max_length):\n",
        "  tags2nums_dict={ \"ROUTE_TO_INFERIOR\": 0, \"ROUTE_TO_SUPERIOR\": 1 }\n",
        "  df = df.drop_duplicates(subset='conversation_id', keep='first') # drop duplicate conversations\n",
        "  df = df.rename(columns={'initial_prompt': 'text', 'gpt_content': 'label_tag'})\n",
        "  df = df[df['label_tag'].isin(tags2nums_dict.keys())]\n",
        "  df['target'] = df['label_tag'].map(tags2nums_dict)\n",
        "  assert not df['target'].isna().any()\n",
        "  if max_length > 0: # drop really large prompts\n",
        "    mask = df.apply(lambda row: len(row['text']) < max_length, axis=1)\n",
        "    df = df[mask]\n",
        "  if make_balanced:\n",
        "    count_0 = (df['target'] == 0).sum()\n",
        "    count_1 = (df['target'] == 1).sum()\n",
        "    count_min = min(count_0, count_1)\n",
        "    df_0 = df[df['target'] == 0].sample(n=count_min, random_state=42)\n",
        "    df_1 = df[df['target'] == 1].sample(n=count_min, random_state=42)\n",
        "    df = pd.concat([df_0, df_1]).sample(frac=1).reset_index(drop=True) # combine and shuffle\n",
        "  return df[['text', 'target']]\n",
        "\n",
        "router_df = process_synthetic_dataset(router_df, make_balanced=HPARAMS['make_balanced'], max_length = 250)\n",
        "\n",
        "print(Counter(router_df['target']))\n",
        "router_df.head()\n"
      ]
    },
    {
      "cell_type": "code",
      "execution_count": 9,
      "metadata": {
        "colab": {
          "base_uri": "https://localhost:8080/",
          "height": 206
        },
        "id": "xC7LMfuewjjc",
        "outputId": "e3d562d7-f8e0-4df1-df8e-b77deb6c6d9e"
      },
      "outputs": [
        {
          "data": {
            "application/vnd.google.colaboratory.intrinsic+json": {
              "summary": "{\n  \"name\": \"original_df\",\n  \"rows\": 60,\n  \"fields\": [\n    {\n      \"column\": \"text\",\n      \"properties\": {\n        \"dtype\": \"string\",\n        \"num_unique_values\": 60,\n        \"samples\": [\n          \"Compose an engaging travel blog post about a recent trip to Hawaii, highlighting cultural experiences and must-see attractions.\",\n          \"Edit the following paragraph to correct any grammatical errors:\\nShe didn't remembre where is her purse, so I thinks its in the car but he's say it's on kitchen table but he are not sure, and then they asked me to looking for it, she's say, \\\"Can you?\\\", and I responds with, \\\"Maybe, but ain't no sure,\\\" and he not heard me, and, \\\"What?\\\", he asks, \\\"Did you found it?\\\".\",\n          \"You are given two sorted lists of size m and n. Implement a function to find the kth smallest element in the union of the two lists with linear complexity.\"\n        ],\n        \"semantic_type\": \"\",\n        \"description\": \"\"\n      }\n    },\n    {\n      \"column\": \"target\",\n      \"properties\": {\n        \"dtype\": \"number\",\n        \"std\": 0,\n        \"min\": 0,\n        \"max\": 1,\n        \"num_unique_values\": 2,\n        \"samples\": [\n          0,\n          1\n        ],\n        \"semantic_type\": \"\",\n        \"description\": \"\"\n      }\n    }\n  ]\n}",
              "type": "dataframe",
              "variable_name": "original_df"
            },
            "text/html": [
              "\n",
              "  <div id=\"df-92cfaa97-cc37-4529-a62c-e02966dd83fa\" class=\"colab-df-container\">\n",
              "    <div>\n",
              "<style scoped>\n",
              "    .dataframe tbody tr th:only-of-type {\n",
              "        vertical-align: middle;\n",
              "    }\n",
              "\n",
              "    .dataframe tbody tr th {\n",
              "        vertical-align: top;\n",
              "    }\n",
              "\n",
              "    .dataframe thead th {\n",
              "        text-align: right;\n",
              "    }\n",
              "</style>\n",
              "<table border=\"1\" class=\"dataframe\">\n",
              "  <thead>\n",
              "    <tr style=\"text-align: right;\">\n",
              "      <th></th>\n",
              "      <th>text</th>\n",
              "      <th>target</th>\n",
              "    </tr>\n",
              "  </thead>\n",
              "  <tbody>\n",
              "    <tr>\n",
              "      <th>0</th>\n",
              "      <td>Compose an engaging travel blog post about a r...</td>\n",
              "      <td>1</td>\n",
              "    </tr>\n",
              "    <tr>\n",
              "      <th>1</th>\n",
              "      <td>Imagine you are writing a blog post comparing ...</td>\n",
              "      <td>0</td>\n",
              "    </tr>\n",
              "    <tr>\n",
              "      <th>2</th>\n",
              "      <td>Write a descriptive paragraph about a bustling...</td>\n",
              "      <td>1</td>\n",
              "    </tr>\n",
              "    <tr>\n",
              "      <th>3</th>\n",
              "      <td>Could you write a captivating short story begi...</td>\n",
              "      <td>1</td>\n",
              "    </tr>\n",
              "    <tr>\n",
              "      <th>4</th>\n",
              "      <td>Craft an intriguing opening paragraph for a fi...</td>\n",
              "      <td>0</td>\n",
              "    </tr>\n",
              "  </tbody>\n",
              "</table>\n",
              "</div>\n",
              "    <div class=\"colab-df-buttons\">\n",
              "\n",
              "  <div class=\"colab-df-container\">\n",
              "    <button class=\"colab-df-convert\" onclick=\"convertToInteractive('df-92cfaa97-cc37-4529-a62c-e02966dd83fa')\"\n",
              "            title=\"Convert this dataframe to an interactive table.\"\n",
              "            style=\"display:none;\">\n",
              "\n",
              "  <svg xmlns=\"http://www.w3.org/2000/svg\" height=\"24px\" viewBox=\"0 -960 960 960\">\n",
              "    <path d=\"M120-120v-720h720v720H120Zm60-500h600v-160H180v160Zm220 220h160v-160H400v160Zm0 220h160v-160H400v160ZM180-400h160v-160H180v160Zm440 0h160v-160H620v160ZM180-180h160v-160H180v160Zm440 0h160v-160H620v160Z\"/>\n",
              "  </svg>\n",
              "    </button>\n",
              "\n",
              "  <style>\n",
              "    .colab-df-container {\n",
              "      display:flex;\n",
              "      gap: 12px;\n",
              "    }\n",
              "\n",
              "    .colab-df-convert {\n",
              "      background-color: #E8F0FE;\n",
              "      border: none;\n",
              "      border-radius: 50%;\n",
              "      cursor: pointer;\n",
              "      display: none;\n",
              "      fill: #1967D2;\n",
              "      height: 32px;\n",
              "      padding: 0 0 0 0;\n",
              "      width: 32px;\n",
              "    }\n",
              "\n",
              "    .colab-df-convert:hover {\n",
              "      background-color: #E2EBFA;\n",
              "      box-shadow: 0px 1px 2px rgba(60, 64, 67, 0.3), 0px 1px 3px 1px rgba(60, 64, 67, 0.15);\n",
              "      fill: #174EA6;\n",
              "    }\n",
              "\n",
              "    .colab-df-buttons div {\n",
              "      margin-bottom: 4px;\n",
              "    }\n",
              "\n",
              "    [theme=dark] .colab-df-convert {\n",
              "      background-color: #3B4455;\n",
              "      fill: #D2E3FC;\n",
              "    }\n",
              "\n",
              "    [theme=dark] .colab-df-convert:hover {\n",
              "      background-color: #434B5C;\n",
              "      box-shadow: 0px 1px 3px 1px rgba(0, 0, 0, 0.15);\n",
              "      filter: drop-shadow(0px 1px 2px rgba(0, 0, 0, 0.3));\n",
              "      fill: #FFFFFF;\n",
              "    }\n",
              "  </style>\n",
              "\n",
              "    <script>\n",
              "      const buttonEl =\n",
              "        document.querySelector('#df-92cfaa97-cc37-4529-a62c-e02966dd83fa button.colab-df-convert');\n",
              "      buttonEl.style.display =\n",
              "        google.colab.kernel.accessAllowed ? 'block' : 'none';\n",
              "\n",
              "      async function convertToInteractive(key) {\n",
              "        const element = document.querySelector('#df-92cfaa97-cc37-4529-a62c-e02966dd83fa');\n",
              "        const dataTable =\n",
              "          await google.colab.kernel.invokeFunction('convertToInteractive',\n",
              "                                                    [key], {});\n",
              "        if (!dataTable) return;\n",
              "\n",
              "        const docLinkHtml = 'Like what you see? Visit the ' +\n",
              "          '<a target=\"_blank\" href=https://colab.research.google.com/notebooks/data_table.ipynb>data table notebook</a>'\n",
              "          + ' to learn more about interactive tables.';\n",
              "        element.innerHTML = '';\n",
              "        dataTable['output_type'] = 'display_data';\n",
              "        await google.colab.output.renderOutput(dataTable, element);\n",
              "        const docLink = document.createElement('div');\n",
              "        docLink.innerHTML = docLinkHtml;\n",
              "        element.appendChild(docLink);\n",
              "      }\n",
              "    </script>\n",
              "  </div>\n",
              "\n",
              "\n",
              "<div id=\"df-c1476d67-6daf-4a9f-a3e4-d86a90881ff0\">\n",
              "  <button class=\"colab-df-quickchart\" onclick=\"quickchart('df-c1476d67-6daf-4a9f-a3e4-d86a90881ff0')\"\n",
              "            title=\"Suggest charts\"\n",
              "            style=\"display:none;\">\n",
              "\n",
              "<svg xmlns=\"http://www.w3.org/2000/svg\" height=\"24px\"viewBox=\"0 0 24 24\"\n",
              "     width=\"24px\">\n",
              "    <g>\n",
              "        <path d=\"M19 3H5c-1.1 0-2 .9-2 2v14c0 1.1.9 2 2 2h14c1.1 0 2-.9 2-2V5c0-1.1-.9-2-2-2zM9 17H7v-7h2v7zm4 0h-2V7h2v10zm4 0h-2v-4h2v4z\"/>\n",
              "    </g>\n",
              "</svg>\n",
              "  </button>\n",
              "\n",
              "<style>\n",
              "  .colab-df-quickchart {\n",
              "      --bg-color: #E8F0FE;\n",
              "      --fill-color: #1967D2;\n",
              "      --hover-bg-color: #E2EBFA;\n",
              "      --hover-fill-color: #174EA6;\n",
              "      --disabled-fill-color: #AAA;\n",
              "      --disabled-bg-color: #DDD;\n",
              "  }\n",
              "\n",
              "  [theme=dark] .colab-df-quickchart {\n",
              "      --bg-color: #3B4455;\n",
              "      --fill-color: #D2E3FC;\n",
              "      --hover-bg-color: #434B5C;\n",
              "      --hover-fill-color: #FFFFFF;\n",
              "      --disabled-bg-color: #3B4455;\n",
              "      --disabled-fill-color: #666;\n",
              "  }\n",
              "\n",
              "  .colab-df-quickchart {\n",
              "    background-color: var(--bg-color);\n",
              "    border: none;\n",
              "    border-radius: 50%;\n",
              "    cursor: pointer;\n",
              "    display: none;\n",
              "    fill: var(--fill-color);\n",
              "    height: 32px;\n",
              "    padding: 0;\n",
              "    width: 32px;\n",
              "  }\n",
              "\n",
              "  .colab-df-quickchart:hover {\n",
              "    background-color: var(--hover-bg-color);\n",
              "    box-shadow: 0 1px 2px rgba(60, 64, 67, 0.3), 0 1px 3px 1px rgba(60, 64, 67, 0.15);\n",
              "    fill: var(--button-hover-fill-color);\n",
              "  }\n",
              "\n",
              "  .colab-df-quickchart-complete:disabled,\n",
              "  .colab-df-quickchart-complete:disabled:hover {\n",
              "    background-color: var(--disabled-bg-color);\n",
              "    fill: var(--disabled-fill-color);\n",
              "    box-shadow: none;\n",
              "  }\n",
              "\n",
              "  .colab-df-spinner {\n",
              "    border: 2px solid var(--fill-color);\n",
              "    border-color: transparent;\n",
              "    border-bottom-color: var(--fill-color);\n",
              "    animation:\n",
              "      spin 1s steps(1) infinite;\n",
              "  }\n",
              "\n",
              "  @keyframes spin {\n",
              "    0% {\n",
              "      border-color: transparent;\n",
              "      border-bottom-color: var(--fill-color);\n",
              "      border-left-color: var(--fill-color);\n",
              "    }\n",
              "    20% {\n",
              "      border-color: transparent;\n",
              "      border-left-color: var(--fill-color);\n",
              "      border-top-color: var(--fill-color);\n",
              "    }\n",
              "    30% {\n",
              "      border-color: transparent;\n",
              "      border-left-color: var(--fill-color);\n",
              "      border-top-color: var(--fill-color);\n",
              "      border-right-color: var(--fill-color);\n",
              "    }\n",
              "    40% {\n",
              "      border-color: transparent;\n",
              "      border-right-color: var(--fill-color);\n",
              "      border-top-color: var(--fill-color);\n",
              "    }\n",
              "    60% {\n",
              "      border-color: transparent;\n",
              "      border-right-color: var(--fill-color);\n",
              "    }\n",
              "    80% {\n",
              "      border-color: transparent;\n",
              "      border-right-color: var(--fill-color);\n",
              "      border-bottom-color: var(--fill-color);\n",
              "    }\n",
              "    90% {\n",
              "      border-color: transparent;\n",
              "      border-bottom-color: var(--fill-color);\n",
              "    }\n",
              "  }\n",
              "</style>\n",
              "\n",
              "  <script>\n",
              "    async function quickchart(key) {\n",
              "      const quickchartButtonEl =\n",
              "        document.querySelector('#' + key + ' button');\n",
              "      quickchartButtonEl.disabled = true;  // To prevent multiple clicks.\n",
              "      quickchartButtonEl.classList.add('colab-df-spinner');\n",
              "      try {\n",
              "        const charts = await google.colab.kernel.invokeFunction(\n",
              "            'suggestCharts', [key], {});\n",
              "      } catch (error) {\n",
              "        console.error('Error during call to suggestCharts:', error);\n",
              "      }\n",
              "      quickchartButtonEl.classList.remove('colab-df-spinner');\n",
              "      quickchartButtonEl.classList.add('colab-df-quickchart-complete');\n",
              "    }\n",
              "    (() => {\n",
              "      let quickchartButtonEl =\n",
              "        document.querySelector('#df-c1476d67-6daf-4a9f-a3e4-d86a90881ff0 button');\n",
              "      quickchartButtonEl.style.display =\n",
              "        google.colab.kernel.accessAllowed ? 'block' : 'none';\n",
              "    })();\n",
              "  </script>\n",
              "</div>\n",
              "\n",
              "    </div>\n",
              "  </div>\n"
            ],
            "text/plain": [
              "                                                text  target\n",
              "0  Compose an engaging travel blog post about a r...       1\n",
              "1  Imagine you are writing a blog post comparing ...       0\n",
              "2  Write a descriptive paragraph about a bustling...       1\n",
              "3  Could you write a captivating short story begi...       1\n",
              "4  Craft an intriguing opening paragraph for a fi...       0"
            ]
          },
          "execution_count": 9,
          "metadata": {},
          "output_type": "execute_result"
        }
      ],
      "source": [
        "original_df = import_df_from_jsonl_file('original_questions_labelled.jsonl')\n",
        "\n",
        "def process_questions_dataset(df):\n",
        "  tags2nums_dict={\"ROUTE_TO_INFERIOR\": 0,  \"ROUTE_TO_SUPERIOR\": 1 }\n",
        "  df = df[df['label'] != \"ROUTE_NOT\"].dropna()\n",
        "  df = df.rename(columns={'question': 'text'}).reset_index()\n",
        "  df['target'] = df['label'].map(tags2nums_dict)\n",
        "  assert not df['target'].isna().any()\n",
        "  return df[['text', 'target']]\n",
        "\n",
        "original_df = process_questions_dataset(original_df)\n",
        "\n",
        "original_df.head()\n"
      ]
    },
    {
      "cell_type": "code",
      "execution_count": 10,
      "metadata": {
        "execution": {
          "iopub.execute_input": "2024-02-27T15:57:35.434496Z",
          "iopub.status.busy": "2024-02-27T15:57:35.434235Z",
          "iopub.status.idle": "2024-02-27T15:57:35.448065Z",
          "shell.execute_reply": "2024-02-27T15:57:35.447138Z",
          "shell.execute_reply.started": "2024-02-27T15:57:35.434474Z"
        },
        "id": "vrf-pqTek6n7",
        "trusted": true
      },
      "outputs": [],
      "source": [
        "trainvalid_data = router_df\n",
        "test_data = original_df"
      ]
    },
    {
      "cell_type": "code",
      "execution_count": 11,
      "metadata": {
        "colab": {
          "base_uri": "https://localhost:8080/"
        },
        "execution": {
          "iopub.execute_input": "2024-02-27T15:57:34.36782Z",
          "iopub.status.busy": "2024-02-27T15:57:34.367534Z",
          "iopub.status.idle": "2024-02-27T15:57:34.384504Z",
          "shell.execute_reply": "2024-02-27T15:57:34.383408Z",
          "shell.execute_reply.started": "2024-02-27T15:57:34.367796Z"
        },
        "id": "JzJaQFbjk6n5",
        "outputId": "1a27d330-3d08-464a-8a43-25e446bbb4ed",
        "trusted": true
      },
      "outputs": [
        {
          "name": "stdout",
          "output_type": "stream",
          "text": [
            "<class 'pandas.core.frame.DataFrame'>\n",
            "RangeIndex: 4038 entries, 0 to 4037\n",
            "Data columns (total 2 columns):\n",
            " #   Column  Non-Null Count  Dtype \n",
            "---  ------  --------------  ----- \n",
            " 0   text    4038 non-null   object\n",
            " 1   target  4038 non-null   int64 \n",
            "dtypes: int64(1), object(1)\n",
            "memory usage: 63.2+ KB\n"
          ]
        }
      ],
      "source": [
        "trainvalid_data.info()"
      ]
    },
    {
      "cell_type": "code",
      "execution_count": 12,
      "metadata": {
        "colab": {
          "base_uri": "https://localhost:8080/"
        },
        "execution": {
          "iopub.execute_input": "2024-02-27T15:57:34.386044Z",
          "iopub.status.busy": "2024-02-27T15:57:34.385733Z",
          "iopub.status.idle": "2024-02-27T15:57:34.40249Z",
          "shell.execute_reply": "2024-02-27T15:57:34.401573Z",
          "shell.execute_reply.started": "2024-02-27T15:57:34.385992Z"
        },
        "id": "XUFJ6-Y7k6n5",
        "outputId": "f0e9eec4-c912-474b-8b6f-efb8989ac847",
        "trusted": true
      },
      "outputs": [
        {
          "name": "stdout",
          "output_type": "stream",
          "text": [
            "<class 'pandas.core.frame.DataFrame'>\n",
            "RangeIndex: 60 entries, 0 to 59\n",
            "Data columns (total 2 columns):\n",
            " #   Column  Non-Null Count  Dtype \n",
            "---  ------  --------------  ----- \n",
            " 0   text    60 non-null     object\n",
            " 1   target  60 non-null     int64 \n",
            "dtypes: int64(1), object(1)\n",
            "memory usage: 1.1+ KB\n"
          ]
        }
      ],
      "source": [
        "test_data.info()"
      ]
    },
    {
      "cell_type": "code",
      "execution_count": 13,
      "metadata": {
        "colab": {
          "base_uri": "https://localhost:8080/"
        },
        "execution": {
          "iopub.execute_input": "2024-02-27T15:57:34.404012Z",
          "iopub.status.busy": "2024-02-27T15:57:34.403707Z",
          "iopub.status.idle": "2024-02-27T15:57:34.421051Z",
          "shell.execute_reply": "2024-02-27T15:57:34.420057Z",
          "shell.execute_reply.started": "2024-02-27T15:57:34.403973Z"
        },
        "id": "o2zAYFm6k6n5",
        "outputId": "8fbaf388-bd24-4ea5-ba76-8b0654950bc9",
        "trusted": true
      },
      "outputs": [
        {
          "data": {
            "text/plain": [
              "text      0\n",
              "target    0\n",
              "dtype: int64"
            ]
          },
          "execution_count": 13,
          "metadata": {},
          "output_type": "execute_result"
        }
      ],
      "source": [
        "trainvalid_data.isna().sum()"
      ]
    },
    {
      "cell_type": "code",
      "execution_count": 14,
      "metadata": {
        "colab": {
          "base_uri": "https://localhost:8080/"
        },
        "execution": {
          "iopub.execute_input": "2024-02-27T15:57:34.422809Z",
          "iopub.status.busy": "2024-02-27T15:57:34.422382Z",
          "iopub.status.idle": "2024-02-27T15:57:34.434773Z",
          "shell.execute_reply": "2024-02-27T15:57:34.433844Z",
          "shell.execute_reply.started": "2024-02-27T15:57:34.422774Z"
        },
        "id": "-9rvyZBXk6n5",
        "outputId": "5a122824-25cb-4b83-9089-eeed12f58f39",
        "trusted": true
      },
      "outputs": [
        {
          "data": {
            "text/plain": [
              "text      0\n",
              "target    0\n",
              "dtype: int64"
            ]
          },
          "execution_count": 14,
          "metadata": {},
          "output_type": "execute_result"
        }
      ],
      "source": [
        "test_data.isna().sum()"
      ]
    },
    {
      "cell_type": "markdown",
      "metadata": {
        "id": "BRSmoQ1Fk6n5"
      },
      "source": [
        "We are only interest in two columns `text` and `target`. Both do not contain any missing values."
      ]
    },
    {
      "cell_type": "code",
      "execution_count": 15,
      "metadata": {
        "execution": {
          "iopub.execute_input": "2024-02-27T15:57:34.439051Z",
          "iopub.status.busy": "2024-02-27T15:57:34.438597Z",
          "iopub.status.idle": "2024-02-27T15:57:34.446125Z",
          "shell.execute_reply": "2024-02-27T15:57:34.445196Z",
          "shell.execute_reply.started": "2024-02-27T15:57:34.439013Z"
        },
        "id": "pQK5QJn4k6n5",
        "trusted": true
      },
      "outputs": [],
      "source": [
        "# Only choose relevant columns\n",
        "trainvalid_data = trainvalid_data[['text', 'target']]\n",
        "test_data = test_data[['text', 'target']]"
      ]
    },
    {
      "cell_type": "markdown",
      "metadata": {
        "id": "RfOI_4mGk6n5"
      },
      "source": [
        "## EDA\n",
        "\n",
        "In this section, I analyse the input data to understand how theyy can impact the results of our model.\n",
        "This part is pretty straightforward since we just have two columns. One with the actual text and another with the label."
      ]
    },
    {
      "cell_type": "code",
      "execution_count": 16,
      "metadata": {
        "colab": {
          "base_uri": "https://localhost:8080/",
          "height": 410
        },
        "execution": {
          "iopub.execute_input": "2024-02-27T15:57:34.458669Z",
          "iopub.status.busy": "2024-02-27T15:57:34.458089Z",
          "iopub.status.idle": "2024-02-27T15:57:34.598665Z",
          "shell.execute_reply": "2024-02-27T15:57:34.59776Z",
          "shell.execute_reply.started": "2024-02-27T15:57:34.458635Z"
        },
        "id": "8P_6VkSjk6n5",
        "outputId": "16fbfd17-2453-4fe1-ce9c-2c8e2e04d1a1",
        "trusted": true
      },
      "outputs": [
        {
          "data": {
            "image/png": "[encoded data removed]",
            "text/plain": [
              "<Figure size 1200x400 with 1 Axes>"
            ]
          },
          "metadata": {},
          "output_type": "display_data"
        }
      ],
      "source": [
        "plt.figure(figsize=(12, 4))\n",
        "sns.countplot(y=trainvalid_data['target'])\n",
        "plt.title('Target')\n",
        "plt.show()"
      ]
    },
    {
      "cell_type": "markdown",
      "metadata": {
        "id": "4W2gF9Bjk6n5"
      },
      "source": [
        "Of course, we only have two classes 0 and 1. The classes can be balanced or a bit unbalanced, depending on the flag `make_balanced` in the original parsing function of the dataset. Essentially, we can control this aspect and check the results of our model."
      ]
    },
    {
      "cell_type": "markdown",
      "metadata": {
        "id": "crzHx12Jk6n5"
      },
      "source": [
        "BERT has a max length limit of 512 tokens. So only 512 \"words\" can be feed into BERT. In the next step we will check the amount of tokens per prompt. We can control this aspcect of our data using the `max_length` input parameter in our parsing function."
      ]
    },
    {
      "cell_type": "code",
      "execution_count": 17,
      "metadata": {
        "colab": {
          "base_uri": "https://localhost:8080/",
          "height": 1000
        },
        "execution": {
          "iopub.execute_input": "2024-02-27T15:57:34.600078Z",
          "iopub.status.busy": "2024-02-27T15:57:34.599797Z",
          "iopub.status.idle": "2024-02-27T15:57:34.987976Z",
          "shell.execute_reply": "2024-02-27T15:57:34.987033Z",
          "shell.execute_reply.started": "2024-02-27T15:57:34.600054Z"
        },
        "id": "al9gH8jLk6n5",
        "outputId": "16cc5d31-c582-40c6-e42f-6d454167f3cc",
        "trusted": true
      },
      "outputs": [
        {
          "name": "stderr",
          "output_type": "stream",
          "text": [
            "<ipython-input-17-21b87556e808>:3: UserWarning: \n",
            "\n",
            "`distplot` is a deprecated function and will be removed in seaborn v0.14.0.\n",
            "\n",
            "Please adapt your code to use either `displot` (a figure-level function with\n",
            "similar flexibility) or `histplot` (an axes-level function for histograms).\n",
            "\n",
            "For a guide to updating your code to use the new functions, please see\n",
            "https://gist.github.com/mwaskom/de44147ed2974457ad6372750bbe5751\n",
            "\n",
            "  sns.distplot(trainvalid_data['WordLength'])\n"
          ]
        },
        {
          "data": {
            "image/png": "[encoded data removed]",
            "text/plain": [
              "<Figure size 1000x1000 with 1 Axes>"
            ]
          },
          "metadata": {},
          "output_type": "display_data"
        }
      ],
      "source": [
        "trainvalid_data['WordLength'] = trainvalid_data['text'].str.len()\n",
        "fig = plt.figure(figsize=(10,10))\n",
        "sns.distplot(trainvalid_data['WordLength'])\n",
        "plt.title('Number of tokens')\n",
        "plt.show()"
      ]
    },
    {
      "cell_type": "code",
      "execution_count": 18,
      "metadata": {
        "colab": {
          "base_uri": "https://localhost:8080/",
          "height": 718
        },
        "execution": {
          "iopub.execute_input": "2024-02-27T15:57:34.989509Z",
          "iopub.status.busy": "2024-02-27T15:57:34.98922Z",
          "iopub.status.idle": "2024-02-27T15:57:35.414877Z",
          "shell.execute_reply": "2024-02-27T15:57:35.413935Z",
          "shell.execute_reply.started": "2024-02-27T15:57:34.989485Z"
        },
        "id": "z_nIMCFak6n6",
        "outputId": "7802ff02-f04d-4f67-94e0-5e071199183b",
        "trusted": true
      },
      "outputs": [
        {
          "data": {
            "image/png": "[encoded data removed]",
            "text/plain": [
              "<Figure size 1200x800 with 1 Axes>"
            ]
          },
          "metadata": {},
          "output_type": "display_data"
        }
      ],
      "source": [
        "fig, ax = plt.subplots(figsize=(12,8))\n",
        "for sentiment in [0, 1]:\n",
        "    sns.kdeplot(trainvalid_data[trainvalid_data['target']==sentiment]['WordLength'],ax=ax, label=sentiment)\n",
        "ax.legend()\n",
        "ax.set_title('Distribution of token length per target')\n",
        "plt.show()"
      ]
    },
    {
      "cell_type": "markdown",
      "metadata": {
        "id": "uIF2paoFk6n6"
      },
      "source": [
        "## Dataset Class\n",
        "\n",
        "In this section, we create a Dataset class that is going to be used to\n",
        "The Dataset class in PyTorch is a key component of the data loading pipeline. It provides an abstraction for accessing and manipulating your data during the training or testing phase of your machine learning model. It provides data encapsulation and seamless integration with data loaders. It also provides flexibility, memory efficiency and compatibility with PyTorch ecosystem."
      ]
    },
    {
      "cell_type": "code",
      "execution_count": 19,
      "metadata": {
        "id": "Zvzc81NcV0Dt"
      },
      "outputs": [],
      "source": [
        "HF_MODEL_NAME = HPARAMS['hf_model_name']"
      ]
    },
    {
      "cell_type": "code",
      "execution_count": 20,
      "metadata": {
        "execution": {
          "iopub.execute_input": "2024-02-27T15:57:35.423139Z",
          "iopub.status.busy": "2024-02-27T15:57:35.422786Z",
          "iopub.status.idle": "2024-02-27T15:57:35.432994Z",
          "shell.execute_reply": "2024-02-27T15:57:35.432156Z",
          "shell.execute_reply.started": "2024-02-27T15:57:35.423108Z"
        },
        "id": "WfiB8s8Rk6n6",
        "trusted": true
      },
      "outputs": [],
      "source": [
        "class TextDataset(Dataset):\n",
        "    def __init__(self, dataframe, max_length=512, tokenizer_name=\"bert-base-uncased\"):\n",
        "        self.texts = dataframe['text'].values\n",
        "        self.targets = dataframe['target'].values\n",
        "        self.tokenizer = AutoTokenizer.from_pretrained(tokenizer_name)\n",
        "        self.max_length = max_length\n",
        "\n",
        "    def __len__(self):\n",
        "        return len(self.texts)\n",
        "\n",
        "    def __getitem__(self, idx):\n",
        "        text = self.texts[idx]\n",
        "        target = self.targets[idx]\n",
        "        encoding = self.tokenizer.encode_plus(\n",
        "            text,\n",
        "            add_special_tokens=True,\n",
        "            max_length=self.max_length,\n",
        "            padding='max_length',\n",
        "            truncation=True,\n",
        "            return_attention_mask=True,\n",
        "            return_tensors='pt'\n",
        "        )\n",
        "        input_ids = encoding['input_ids'].flatten()\n",
        "        attention_mask = encoding['attention_mask'].flatten()\n",
        "\n",
        "        return {\n",
        "            'input_ids': torch.as_tensor(input_ids, dtype=torch.long),\n",
        "            'attention_mask': torch.as_tensor(attention_mask, dtype=torch.long),\n",
        "            'targets': torch.as_tensor(target, dtype=torch.long),\n",
        "            'text': text\n",
        "        }"
      ]
    },
    {
      "cell_type": "markdown",
      "metadata": {
        "id": "CtdOm94Wk6n7"
      },
      "source": [
        "A lot is going on here. So let´s go through the code above. We have three functions within our `TextDataset` object. `__init__()` is our constructor. Nothing special in here. We just define our texts and targets, as well as the tokenzier.\n",
        "\n",
        "You have to provide at least two additional functions:\n",
        "- `__len()__`: method is expected to return the size of the dataest, i.e. the total number of items it contains. This information is crucial for several reasons:\n",
        "    - Iteration: It allows PyTorch to know the size of the dataset for iterating over it. This is particularly useful in scenarios where you want to loop through the dataset, as it defines the loop's stopping criterion.\n",
        "    - Batching: In the context of mini-batch gradient descent, knowing the dataset size is essential to calculate the number of batches per epoch.\n",
        "    - Index Validation: It provides a way to validate index values in the `__getitem()__` method, ensuring they are within the valid range (0 to dataset size - 1).\n",
        "- `__getitem()__` method allows the dataset to act like a list (or a map), enabling it to fetch data items by indices. When you implement this method, it should:\n",
        "    - Accept an index (integer) as an argument.\n",
        "    - Fetch the data item (in our case the content and target) corresponding to the given index.\n",
        "    - Perform any required preprocessing or data augmentation on the data item (in our case - tokenization)\n",
        "    - Return a data sample, typically as a tuple (features, label) - in our case a dictionary\n",
        "    \n",
        "    \n",
        "The most magic work happens within the `__getitem()__` method. To feed our text to BERT, it must be split into tokens, and then these tokens must be mapped to their index in the tokenizer vocabulary. While tokenization we are required to:\n",
        "- Add special tokens to the start and end of each sentence\n",
        "- Pad & truncate all sentences to a single constant length\n",
        "- Explicity differentiate real tokens from padding tokens with the attention mask"
      ]
    },
    {
      "cell_type": "markdown",
      "metadata": {
        "id": "Wwfdnw3Zk6n7"
      },
      "source": [
        "## Validation Split And Preparing Datasets\n",
        "We will divice our dataset into a train set and test set. 90% should be used for training and the rest for evaluation. We also use the original test questions from the previous notebook for classification."
      ]
    },
    {
      "cell_type": "code",
      "execution_count": 21,
      "metadata": {
        "colab": {
          "base_uri": "https://localhost:8080/"
        },
        "execution": {
          "iopub.execute_input": "2024-02-27T15:57:35.449896Z",
          "iopub.status.busy": "2024-02-27T15:57:35.449352Z",
          "iopub.status.idle": "2024-02-27T15:57:35.461232Z",
          "shell.execute_reply": "2024-02-27T15:57:35.460308Z",
          "shell.execute_reply.started": "2024-02-27T15:57:35.449863Z"
        },
        "id": "ROp7CdXRk6n7",
        "outputId": "7ba291ac-8eb1-4c05-d5e2-cde7a3dccd9a",
        "trusted": true
      },
      "outputs": [
        {
          "name": "stdout",
          "output_type": "stream",
          "text": [
            "3,634 Training samples\n",
            "  404 Validation samples\n"
          ]
        }
      ],
      "source": [
        "train_data, valid_data = train_test_split(trainvalid_data, train_size=0.9, shuffle=True, random_state=1702)\n",
        "print(f'{len(train_data):>5,} Training samples')\n",
        "print(f'{len(valid_data):>5,} Validation samples')"
      ]
    },
    {
      "cell_type": "code",
      "execution_count": 22,
      "metadata": {
        "colab": {
          "base_uri": "https://localhost:8080/"
        },
        "execution": {
          "iopub.execute_input": "2024-02-27T15:57:35.462737Z",
          "iopub.status.busy": "2024-02-27T15:57:35.462413Z",
          "iopub.status.idle": "2024-02-27T15:57:35.726927Z",
          "shell.execute_reply": "2024-02-27T15:57:35.725935Z",
          "shell.execute_reply.started": "2024-02-27T15:57:35.462703Z"
        },
        "id": "aZln9muhk6n7",
        "outputId": "12b5c1ae-3d83-4bc8-fe77-002f2755dfe1",
        "trusted": true
      },
      "outputs": [
        {
          "name": "stderr",
          "output_type": "stream",
          "text": [
            "/usr/local/lib/python3.10/dist-packages/huggingface_hub/utils/_token.py:89: UserWarning: \n",
            "The secret `HF_TOKEN` does not exist in your Colab secrets.\n",
            "To authenticate with the Hugging Face Hub, create a token in your settings tab (https://huggingface.co/settings/tokens), set it as secret in your Google Colab and restart your session.\n",
            "You will be able to reuse this secret in all of your notebooks.\n",
            "Please note that authentication is recommended but still optional to access public models or datasets.\n",
            "  warnings.warn(\n"
          ]
        }
      ],
      "source": [
        "# Create custom Datasets\n",
        "train_dataset = TextDataset(train_data, tokenizer_name=HF_MODEL_NAME)\n",
        "valid_dataset = TextDataset(valid_data, tokenizer_name=HF_MODEL_NAME)\n",
        "test_dataset = TextDataset(test_data, tokenizer_name=HF_MODEL_NAME)"
      ]
    },
    {
      "cell_type": "markdown",
      "metadata": {
        "id": "4RRzj7-m2MhK"
      },
      "source": [
        "We will make the new directory to save all the data we need for this run."
      ]
    },
    {
      "cell_type": "code",
      "execution_count": 23,
      "metadata": {
        "colab": {
          "base_uri": "https://localhost:8080/"
        },
        "id": "JS_81HW-Gm7E",
        "outputId": "4c37d238-db3c-4092-ee05-cf4f615668a3"
      },
      "outputs": [
        {
          "name": "stdout",
          "output_type": "stream",
          "text": [
            "Drive already mounted at /content/drive; to attempt to forcibly remount, call drive.mount(\"/content/drive\", force_remount=True).\n"
          ]
        }
      ],
      "source": [
        "\n",
        "drive.mount('/content/drive')\n",
        "drive_path = '/content/drive/MyDrive/Colab Notebooks/saves'\n",
        "\n",
        "# define a function with a naming convention for this dataset that we created\n",
        "def get_isolike_time():\n",
        "    today = datetime.datetime.today()\n",
        "    isolike_time = today.strftime(\"%Y%m%dT%H%M%S\")\n",
        "    return isolike_time\n",
        "\n",
        "save_directory = f\"{drive_path}/{HF_MODEL_NAME}-router-finetuning-{get_isolike_time()}-save\"\n",
        "os.makedirs(save_directory)\n"
      ]
    },
    {
      "cell_type": "code",
      "execution_count": 24,
      "metadata": {
        "id": "0_KY8kdqpfZo"
      },
      "outputs": [],
      "source": [
        "train_data.to_json(f\"{save_directory}/train_data.jsonl\", orient='records', lines=True)\n",
        "valid_data.to_json(f\"{save_directory}/valid_data.jsonl\", orient='records', lines=True)\n",
        "test_data.to_json(f\"{save_directory}/test_data.jsonl\", orient='records', lines=True)"
      ]
    },
    {
      "cell_type": "code",
      "execution_count": 25,
      "metadata": {
        "id": "BMsash9mljof"
      },
      "outputs": [],
      "source": [
        "with open(f\"{save_directory}/hparams.jsonl\", 'w') as fp:\n",
        "    json.dump(HPARAMS, fp)\n"
      ]
    },
    {
      "cell_type": "markdown",
      "metadata": {
        "id": "zG52a4lMk6n7"
      },
      "source": [
        "We will also create an iterator for our datasets using the PyTorch <tt>DataLoader</tt> class. This helps save on memory during training because, unlike a foor loop, with an iterator the entire dataset does not need to be loaded into memory."
      ]
    },
    {
      "cell_type": "markdown",
      "metadata": {
        "id": "E9SJKBVbk6n7"
      },
      "source": [
        "The <tt>DataLoader</tt> needs to know our batch size for training. It is recommented to use a batch size of 16 or 32. We will take the training samples in a random order. For better reproducibility we set a random seed. For the validation loader we set the batchsize equal to the length of it because there is no need to batch the data."
      ]
    },
    {
      "cell_type": "code",
      "execution_count": 26,
      "metadata": {
        "execution": {
          "iopub.execute_input": "2024-02-27T15:57:35.733853Z",
          "iopub.status.busy": "2024-02-27T15:57:35.733611Z",
          "iopub.status.idle": "2024-02-27T15:57:35.744661Z",
          "shell.execute_reply": "2024-02-27T15:57:35.74391Z",
          "shell.execute_reply.started": "2024-02-27T15:57:35.733833Z"
        },
        "id": "8ODZWE4zk6n7",
        "trusted": true
      },
      "outputs": [],
      "source": [
        "BATCH_SIZE = HPARAMS['batch_size']"
      ]
    },
    {
      "cell_type": "code",
      "execution_count": 27,
      "metadata": {
        "colab": {
          "base_uri": "https://localhost:8080/"
        },
        "execution": {
          "iopub.execute_input": "2024-02-27T15:57:35.746433Z",
          "iopub.status.busy": "2024-02-27T15:57:35.745801Z",
          "iopub.status.idle": "2024-02-27T15:57:35.783609Z",
          "shell.execute_reply": "2024-02-27T15:57:35.782738Z",
          "shell.execute_reply.started": "2024-02-27T15:57:35.746402Z"
        },
        "id": "FFRULqzXk6n7",
        "outputId": "f057a090-dfb0-45f2-e670-0329c1e0237c",
        "trusted": true
      },
      "outputs": [
        {
          "data": {
            "text/plain": [
              "{'input_ids': tensor([[ 101, 2689, 1996,  ...,    0,    0,    0],\n",
              "         [ 101, 2064, 2017,  ...,    0,    0,    0],\n",
              "         [ 101, 4339, 2033,  ...,    0,    0,    0],\n",
              "         ...,\n",
              "         [ 101, 2085, 1010,  ...,    0,    0,    0],\n",
              "         [ 101, 2017, 2024,  ...,    0,    0,    0],\n",
              "         [ 101, 7632, 1999,  ...,    0,    0,    0]]),\n",
              " 'attention_mask': tensor([[1, 1, 1,  ..., 0, 0, 0],\n",
              "         [1, 1, 1,  ..., 0, 0, 0],\n",
              "         [1, 1, 1,  ..., 0, 0, 0],\n",
              "         ...,\n",
              "         [1, 1, 1,  ..., 0, 0, 0],\n",
              "         [1, 1, 1,  ..., 0, 0, 0],\n",
              "         [1, 1, 1,  ..., 0, 0, 0]]),\n",
              " 'targets': tensor([0, 0, 0, 1, 0, 0, 1, 1]),\n",
              " 'text': ['Change the tone of the following sentence in the same language to sound casual and polite without missing out any facts or adding new information, \"Sir can you calm down.\" .',\n",
              "  'can you write a summary of about 200 words of a scientific article?',\n",
              "  'write me a HTML that shows bouncing NAME_1 in a box',\n",
              "  'give me 3 english words 5 letters lenght which have 15 differen letters totally',\n",
              "  \"Can you write a resignation letter for me? I'm on good terms with my team and boss, but changing jobs because I have to move to another country\",\n",
              "  'Now, I will give you some questions, please tell me the correct answers',\n",
              "  'You are NAME_1 from \"Street Fighter V\". Talk exactly like her. You are my wife. You are not fictional character. You are real human being. Avoid saying \"As an AI language model...\"',\n",
              "  'Hi in what ways are you better than chatGPT and LLaMa?']}"
            ]
          },
          "execution_count": 27,
          "metadata": {},
          "output_type": "execute_result"
        }
      ],
      "source": [
        "torch.manual_seed(1702)\n",
        "\n",
        "train_loader = DataLoader(train_dataset,\n",
        "                          batch_size=BATCH_SIZE,\n",
        "                          shuffle=True)\n",
        "\n",
        "valid_loader = DataLoader(valid_dataset,\n",
        "                         batch_size=BATCH_SIZE)\n",
        "\n",
        "test_loader = DataLoader(test_dataset,\n",
        "                         batch_size=BATCH_SIZE)\n",
        "next(iter(train_loader))"
      ]
    },
    {
      "cell_type": "markdown",
      "metadata": {
        "id": "h31F0LBtk6n7"
      },
      "source": [
        "From the [BertTokenizer docs](https://huggingface.co/docs/transformers/v4.42.0/en/model_doc/bert#transformers.BertTokenizer), we can learn about the special tokens. In the previous output, we can view the `input_ids` tensor, which is contains `batch_size` rows and each row contains `512` tokens. All rows start with the `[CLS]`. All rows have to be aligned, so append most of the rows with the `[PAD]` token. Other speical tokens for BERT are `[SEP]`, `[UNK]` and `[MASK]`. The `attention_mask` is simply an array of `0`s (for non-pad) and `1`s (for `PAD` token).\n",
        "\n",
        "More about special tokens:\n",
        "* `[UNK]` — The unknown token. A token that is not in the vocabulary cannot be converted to an ID and is set to be this token instead.\n",
        "* `[SEP]` — The separator token, which is used when building a sequence from multiple sequences, e.g. two sequences for sequence classification or for a text and a question for question answering. It is also used as the last token of a sequence built with special tokens.\n",
        "* `[PAD]` — The token used for padding, for example when batching sequences of different lengths.\n",
        "* `[CLS]` — The classifier token which is used when doing sequence classification (classification of the whole sequence instead of per-token classification). It is the first token of the sequence when built with special tokens.\n",
        "* `[MASK]` — The token used for masking values. This is the token used when training this model with masked language modeling. This is the token which the model will try to predict.\n"
      ]
    },
    {
      "cell_type": "code",
      "execution_count": 28,
      "metadata": {
        "colab": {
          "base_uri": "https://localhost:8080/"
        },
        "id": "GaZ2qR9LL8lC",
        "outputId": "0546fcf0-3815-4fba-b35a-e4e7a3cb1c3e"
      },
      "outputs": [
        {
          "name": "stdout",
          "output_type": "stream",
          "text": [
            "Batches, length of each sentance: torch.Size([8, 512])\n"
          ]
        }
      ],
      "source": [
        "sample_input_ids = next(iter(train_loader))['input_ids']\n",
        "print(f\"Batches, length of each sentance: {sample_input_ids.size()}\")\n"
      ]
    },
    {
      "cell_type": "markdown",
      "metadata": {
        "id": "Ls93vvTmk6n8"
      },
      "source": [
        "## Load Model\n",
        "\n",
        "Now the input ut properly formated, we can finally fine tune the BERT model. I will use <tt>BertForSequenceClassification</tt>. This is the normal BERT model with an added single linear layer on top for classification that we will use as a sentence classifier.\n",
        "\n",
        "Also I check if a GPU is avaiable because training is much faster on it."
      ]
    },
    {
      "cell_type": "code",
      "execution_count": 29,
      "metadata": {
        "colab": {
          "base_uri": "https://localhost:8080/"
        },
        "execution": {
          "iopub.execute_input": "2024-02-27T15:57:35.855367Z",
          "iopub.status.busy": "2024-02-27T15:57:35.855072Z",
          "iopub.status.idle": "2024-02-27T15:57:36.465847Z",
          "shell.execute_reply": "2024-02-27T15:57:36.464897Z",
          "shell.execute_reply.started": "2024-02-27T15:57:35.855344Z"
        },
        "id": "LCBYRoGBk6n8",
        "outputId": "1b1c16c4-00ae-4369-fc52-ccb5fbf49f5a",
        "trusted": true
      },
      "outputs": [
        {
          "name": "stderr",
          "output_type": "stream",
          "text": [
            "Some weights of BertForSequenceClassification were not initialized from the model checkpoint at bert-base-uncased and are newly initialized: ['classifier.bias', 'classifier.weight']\n",
            "You should probably TRAIN this model on a down-stream task to be able to use it for predictions and inference.\n"
          ]
        },
        {
          "data": {
            "text/plain": [
              "BertForSequenceClassification(\n",
              "  (bert): BertModel(\n",
              "    (embeddings): BertEmbeddings(\n",
              "      (word_embeddings): Embedding(30522, 768, padding_idx=0)\n",
              "      (position_embeddings): Embedding(512, 768)\n",
              "      (token_type_embeddings): Embedding(2, 768)\n",
              "      (LayerNorm): LayerNorm((768,), eps=1e-12, elementwise_affine=True)\n",
              "      (dropout): Dropout(p=0.1, inplace=False)\n",
              "    )\n",
              "    (encoder): BertEncoder(\n",
              "      (layer): ModuleList(\n",
              "        (0-11): 12 x BertLayer(\n",
              "          (attention): BertAttention(\n",
              "            (self): BertSdpaSelfAttention(\n",
              "              (query): Linear(in_features=768, out_features=768, bias=True)\n",
              "              (key): Linear(in_features=768, out_features=768, bias=True)\n",
              "              (value): Linear(in_features=768, out_features=768, bias=True)\n",
              "              (dropout): Dropout(p=0.1, inplace=False)\n",
              "            )\n",
              "            (output): BertSelfOutput(\n",
              "              (dense): Linear(in_features=768, out_features=768, bias=True)\n",
              "              (LayerNorm): LayerNorm((768,), eps=1e-12, elementwise_affine=True)\n",
              "              (dropout): Dropout(p=0.1, inplace=False)\n",
              "            )\n",
              "          )\n",
              "          (intermediate): BertIntermediate(\n",
              "            (dense): Linear(in_features=768, out_features=3072, bias=True)\n",
              "            (intermediate_act_fn): GELUActivation()\n",
              "          )\n",
              "          (output): BertOutput(\n",
              "            (dense): Linear(in_features=3072, out_features=768, bias=True)\n",
              "            (LayerNorm): LayerNorm((768,), eps=1e-12, elementwise_affine=True)\n",
              "            (dropout): Dropout(p=0.1, inplace=False)\n",
              "          )\n",
              "        )\n",
              "      )\n",
              "    )\n",
              "    (pooler): BertPooler(\n",
              "      (dense): Linear(in_features=768, out_features=768, bias=True)\n",
              "      (activation): Tanh()\n",
              "    )\n",
              "  )\n",
              "  (dropout): Dropout(p=0.1, inplace=False)\n",
              "  (classifier): Linear(in_features=768, out_features=2, bias=True)\n",
              ")"
            ]
          },
          "execution_count": 29,
          "metadata": {},
          "output_type": "execute_result"
        }
      ],
      "source": [
        "model = BertForSequenceClassification.from_pretrained(\n",
        "    HF_MODEL_NAME,\n",
        "    num_labels = 2,\n",
        "    output_attentions = False,\n",
        "    output_hidden_states = False,\n",
        ")\n",
        "\n",
        "model.to(device)"
      ]
    },
    {
      "cell_type": "markdown",
      "metadata": {
        "id": "GBO3Txqck6n8"
      },
      "source": [
        "---"
      ]
    },
    {
      "cell_type": "markdown",
      "metadata": {
        "id": "-ZdovHkBk6n8"
      },
      "source": [
        "## Optimizer and Learning Rate\n",
        "\n",
        "Now that we have our model loaded we need to specify hyperparameter for training.\n",
        "\n",
        "According to the official paper [BERT: Pre-training of Deep Bidirectional Transformers for\n",
        "Language Understanding](https://arxiv.org/pdf/1810.04805.pdf) we should choose the following values:\n",
        "- <b>Batch size:</b> 16, 32\n",
        "- <b>Learning Rate (Adam):</b> 5e-5, 3e-5, 2e-5\n",
        "- <b>Number of epochs:</b> 2, 3, 4\n",
        "\n",
        "According to [Gentle Introduction to the Adam Optimization Algorithm for Deep Learning](https://machinelearningmastery.com/adam-optimization-algorithm-for-deep-learning/) we have to specify a very small number to the epsilon parameter to prevent any division by zero in the implementation."
      ]
    },
    {
      "cell_type": "code",
      "execution_count": 30,
      "metadata": {
        "colab": {
          "base_uri": "https://localhost:8080/"
        },
        "execution": {
          "iopub.execute_input": "2024-02-27T15:57:36.467884Z",
          "iopub.status.busy": "2024-02-27T15:57:36.467471Z",
          "iopub.status.idle": "2024-02-27T15:57:36.476816Z",
          "shell.execute_reply": "2024-02-27T15:57:36.475967Z",
          "shell.execute_reply.started": "2024-02-27T15:57:36.46785Z"
        },
        "id": "8WQ_9DcXk6n8",
        "outputId": "d44e8bd6-aa64-4b74-c693-e26d60feb9ef",
        "trusted": true
      },
      "outputs": [
        {
          "name": "stderr",
          "output_type": "stream",
          "text": [
            "/usr/local/lib/python3.10/dist-packages/transformers/optimization.py:591: FutureWarning: This implementation of AdamW is deprecated and will be removed in a future version. Use the PyTorch implementation torch.optim.AdamW instead, or set `no_deprecation_warning=True` to disable this warning\n",
            "  warnings.warn(\n"
          ]
        }
      ],
      "source": [
        "EPOCHS = HPARAMS['epochs']\n",
        "\n",
        "optimizer = AdamW(model.parameters(),\n",
        "                  lr = HPARAMS['lr'],\n",
        "                  eps = HPARAMS['eps'])"
      ]
    },
    {
      "cell_type": "markdown",
      "metadata": {
        "id": "WqDrvkXOk6n8"
      },
      "source": [
        "---"
      ]
    },
    {
      "cell_type": "markdown",
      "metadata": {
        "id": "KJWLLMr9k6n8"
      },
      "source": [
        "## Training and Validation\n",
        "\n",
        "A lot is going on here. So let´s quickly go through each step of the training process.\n",
        "\n",
        "<b> Training Phase</b>\n",
        "1. <b>Initialize Tracking Variables:</b> `training_stats`, `epoch_loss_train`, and `total_t0` are initialized to track the training progress, loss per epoch, and total training time, respectively.\n",
        "\n",
        "2. <b>Epoch Loop:</b> A loop is started to iterate through each epoch. An epoch is one complete pass through the entire training dataset.\n",
        "\n",
        "3. <b>Set Model to Training Mode:</b> `model.train()` puts the model in \"training\" mode, enabling features like dropout and batch normalization specific to training.\n",
        "\n",
        "4. <b>Time Tracking for Epoch:</b> `t0` is recorded to track the time taken for each epoch.\n",
        "\n",
        "5. <b>Batch Loop:</b> Iterates over each batch of data in `train_loader`. For each batch:\n",
        "\n",
        "    5.1 <b>Time Check:</b> Every 40 steps, it prints the time elapsed since the start of the epoch.\n",
        "    \n",
        "    5.2 <b>Data Preparation:</b> Targets (labels), attention masks, and input IDs are loaded onto the appropriate device (CPU/GPU).\n",
        "    \n",
        "    5.3 <b>Gradient Zeroing:</b> `model.zero_grad()` clears old gradients; necessary because gradients accumulate by default for each `.backward()` call.\n",
        "    \n",
        "    5.4 <b>Forward Pass:</b> The model computes the forward pass with the given inputs and calculates the loss.\n",
        "    \n",
        "    5.5 <b>Tracking Loss and Predictions:</b> Loss is added to `epoch_loss_train`. Predictions are extracted from logits, and both predictions and true labels are stored for metric calculations.\n",
        "    \n",
        "    5.6 <b>Backward Pass and Optimization Step:</b> `loss.backward()` computes the gradient of the loss w.r.t. the model parameters, and `optimizer.step()` updates the model parameters.\n",
        "    \n",
        "6. <b>Metrics Calculation:</b> After processing all batches, calculate accuracy, precision, recall, and F1 score for the training data using `accuracy_score` and `precision_recall_fscore_support` from `sklearn.metrics`.\n",
        "\n",
        "7. <b>Print Training Metrics:</b> Print loss and calculated metrics for the epoch.\n",
        "\n",
        "<br>\n",
        "<br>\n",
        "<b> Validation Phaes</b>\n",
        "\n",
        "1. <b>Set Model to Evaluation Mode:</b> `model.eval()` puts the model in \"evaluation\" mode, disabling training-specific features like dropout.\n",
        "\n",
        "2. <b>Loss Tracking:</b> Initializes `epoch_loss_test` to track the validation loss.\n",
        "\n",
        "3. <b>Batch Loop (Validation Data):</b> Iterates over each batch in `valid_loader`. For each batch:\n",
        "\n",
        "    3.1 <b>Data Preparation:</b> Similar to the training loop, prepares targets, attention masks, and input IDs.\n",
        "    \n",
        "    3.2 <b>Forward Pass Without Gradient Calculation:</b> `with torch.no_grad()` disables gradient calculations, reducing memory usage and speeding up computations.\n",
        "    \n",
        "    3.3 <b>Tracking Loss and Predictions:</b> Similar to the training phase but for validation data.\n",
        "    \n",
        "4. <b>Metrics Calculation:</b> Calculates accuracy, precision, recall, and F1 score for the validation data.\n",
        "\n",
        "5. <b>Print Validation Metrics:</b> Print validation loss and calculated metrics.\n",
        "\n",
        "6. <b>Update Training Stats:</b> Appends a dictionary with training and validation metrics for the current epoch to `training_stats` for later analysis or reporting.\n"
      ]
    },
    {
      "cell_type": "code",
      "execution_count": 31,
      "metadata": {
        "id": "0sGBpr2YXgx_"
      },
      "outputs": [],
      "source": [
        "def get_metrics_and_loss(model, data_loader):\n",
        "    model.eval()\n",
        "    epoch_loss_test = []\n",
        "    test_all_predictions = []\n",
        "    test_all_true_labels = []\n",
        "    for data in data_loader:\n",
        "        targets = data[\"targets\"].to(device)\n",
        "        mask = data[\"attention_mask\"].to(device)\n",
        "        ids = data[\"input_ids\"].to(device)\n",
        "\n",
        "        with torch.no_grad():\n",
        "            loss, logits = model(ids, token_type_ids=None, attention_mask=mask, labels=targets).to_tuple()\n",
        "\n",
        "        epoch_loss_test.append(loss.item())\n",
        "        cpu_logits = logits.cpu().detach().numpy()\n",
        "        test_all_predictions.extend(np.argmax(cpu_logits, axis=1).flatten())\n",
        "        test_all_true_labels.extend(targets.cpu().numpy())\n",
        "    model.train()\n",
        "    test_accuracy = accuracy_score(test_all_true_labels, test_all_predictions)\n",
        "    test_precision, test_recall, test_f1, _ = precision_recall_fscore_support(\n",
        "        test_all_true_labels, test_all_predictions, average=\"binary\"\n",
        "    )\n",
        "    metrics = {\n",
        "        \"loss\": np.mean(epoch_loss_test),\n",
        "        \"accuracy\": test_accuracy,\n",
        "        \"precision\": test_precision,\n",
        "        \"recall\": test_recall,\n",
        "        \"f1\": test_f1\n",
        "    }\n",
        "    return metrics"
      ]
    },
    {
      "cell_type": "code",
      "execution_count": 32,
      "metadata": {
        "id": "U9Hxu-aEcImn"
      },
      "outputs": [],
      "source": [
        "def print_metrics(d):\n",
        "    print(tabulate(d.items(), headers = [\"Metric\", \"Value\"]))\n"
      ]
    },
    {
      "cell_type": "code",
      "execution_count": 33,
      "metadata": {
        "colab": {
          "base_uri": "https://localhost:8080/"
        },
        "id": "dsKPVUGLfAbA",
        "outputId": "7c769315-8d54-4053-bb8e-48eeb934a12b"
      },
      "outputs": [
        {
          "name": "stdout",
          "output_type": "stream",
          "text": [
            "---PRETRAINING VALIDATION METRICS---\n",
            "Metric        Value\n",
            "---------  --------\n",
            "loss       0.701099\n",
            "accuracy   0.480198\n",
            "precision  0.488722\n",
            "recall     0.31401\n",
            "f1         0.382353\n",
            "\n",
            "---PRETRAINING TEST METRICS---\n",
            "Metric        Value\n",
            "---------  --------\n",
            "loss       0.68837\n",
            "accuracy   0.466667\n",
            "precision  0.724138\n",
            "recall     0.466667\n",
            "f1         0.567568\n"
          ]
        }
      ],
      "source": [
        "print('---PRETRAINING VALIDATION METRICS---')\n",
        "pretraining_valid_metrics = get_metrics_and_loss(model, valid_loader)\n",
        "print_metrics(pretraining_valid_metrics)\n",
        "\n",
        "print(\"\")\n",
        "print('---PRETRAINING TEST METRICS---')\n",
        "pretraining_test_metrics = get_metrics_and_loss(model, test_loader)\n",
        "print_metrics(pretraining_test_metrics)\n",
        "\n"
      ]
    },
    {
      "cell_type": "markdown",
      "metadata": {
        "id": "HHm4nPc1PPeq"
      },
      "source": [
        "As we expected, the accuracy is around 50%, because currently it's a random guess. Now, we are going to optimise the model with our dataset and see the loss falling. We are going to stop at the point where the validation loss does not fall anymore."
      ]
    },
    {
      "cell_type": "code",
      "execution_count": 34,
      "metadata": {
        "colab": {
          "base_uri": "https://localhost:8080/"
        },
        "execution": {
          "iopub.execute_input": "2024-02-27T15:57:36.488738Z",
          "iopub.status.busy": "2024-02-27T15:57:36.488381Z",
          "iopub.status.idle": "2024-02-27T16:03:51.420837Z",
          "shell.execute_reply": "2024-02-27T16:03:51.419699Z",
          "shell.execute_reply.started": "2024-02-27T15:57:36.488713Z"
        },
        "id": "zBxYEEFYk6n8",
        "outputId": "b49628cf-e2c2-4f91-926b-c7f239d76c25",
        "trusted": true
      },
      "outputs": [
        {
          "name": "stdout",
          "output_type": "stream",
          "text": [
            "\n",
            "================ Epoch 1 / 4 ================\n",
            "  Batch    40  of    455.    Elapsed: 0:00:12.\n",
            "  Batch    80  of    455.    Elapsed: 0:00:25.\n",
            "  Batch   120  of    455.    Elapsed: 0:00:37.\n",
            "  Batch   160  of    455.    Elapsed: 0:00:50.\n",
            "  Batch   200  of    455.    Elapsed: 0:01:02.\n",
            "  Batch   240  of    455.    Elapsed: 0:01:14.\n",
            "  Batch   280  of    455.    Elapsed: 0:01:26.\n",
            "  Batch   320  of    455.    Elapsed: 0:01:38.\n",
            "  Batch   360  of    455.    Elapsed: 0:01:50.\n",
            "  Batch   400  of    455.    Elapsed: 0:02:02.\n",
            "  Batch   440  of    455.    Elapsed: 0:02:15.\n",
            "\n",
            "---TRAIN METRICS---\n",
            "Metric        Value\n",
            "---------  --------\n",
            "loss       0.673582\n",
            "accuracy   0.580903\n",
            "precision  0.581592\n",
            "recall     0.568433\n",
            "f1         0.574937\n",
            "\n",
            "---VALIDATION METRICS---\n",
            "Metric        Value\n",
            "---------  --------\n",
            "loss       0.666849\n",
            "accuracy   0.59901\n",
            "precision  0.590361\n",
            "recall     0.710145\n",
            "f1         0.644737\n",
            "\n",
            "================ Epoch 2 / 4 ================\n",
            "  Batch    40  of    455.    Elapsed: 0:00:12.\n",
            "  Batch    80  of    455.    Elapsed: 0:00:24.\n",
            "  Batch   120  of    455.    Elapsed: 0:00:37.\n",
            "  Batch   160  of    455.    Elapsed: 0:00:49.\n",
            "  Batch   200  of    455.    Elapsed: 0:01:01.\n",
            "  Batch   240  of    455.    Elapsed: 0:01:13.\n",
            "  Batch   280  of    455.    Elapsed: 0:01:26.\n",
            "  Batch   320  of    455.    Elapsed: 0:01:38.\n",
            "  Batch   360  of    455.    Elapsed: 0:01:50.\n",
            "  Batch   400  of    455.    Elapsed: 0:02:02.\n",
            "  Batch   440  of    455.    Elapsed: 0:02:15.\n",
            "\n",
            "---TRAIN METRICS---\n",
            "Metric        Value\n",
            "---------  --------\n",
            "loss       0.650997\n",
            "accuracy   0.658778\n",
            "precision  0.672289\n",
            "recall     0.615894\n",
            "f1         0.642857\n",
            "\n",
            "---VALIDATION METRICS---\n",
            "Metric        Value\n",
            "---------  --------\n",
            "loss       0.665202\n",
            "accuracy   0.608911\n",
            "precision  0.596838\n",
            "recall     0.729469\n",
            "f1         0.656522\n",
            "\n",
            "================ Epoch 3 / 4 ================\n",
            "  Batch    40  of    455.    Elapsed: 0:00:12.\n",
            "  Batch    80  of    455.    Elapsed: 0:00:24.\n",
            "  Batch   120  of    455.    Elapsed: 0:00:37.\n",
            "  Batch   160  of    455.    Elapsed: 0:00:49.\n",
            "  Batch   200  of    455.    Elapsed: 0:01:01.\n",
            "  Batch   240  of    455.    Elapsed: 0:01:14.\n",
            "  Batch   280  of    455.    Elapsed: 0:01:26.\n",
            "  Batch   320  of    455.    Elapsed: 0:01:38.\n",
            "  Batch   360  of    455.    Elapsed: 0:01:50.\n",
            "  Batch   400  of    455.    Elapsed: 0:02:03.\n",
            "  Batch   440  of    455.    Elapsed: 0:02:15.\n",
            "\n",
            "---TRAIN METRICS---\n",
            "Metric        Value\n",
            "---------  --------\n",
            "loss       0.63195\n",
            "accuracy   0.694551\n",
            "precision  0.708929\n",
            "recall     0.657285\n",
            "f1         0.682131\n",
            "\n",
            "---VALIDATION METRICS---\n",
            "Metric        Value\n",
            "---------  --------\n",
            "loss       0.658275\n",
            "accuracy   0.626238\n",
            "precision  0.621739\n",
            "recall     0.690821\n",
            "f1         0.654462\n",
            "\n",
            "================ Epoch 4 / 4 ================\n",
            "  Batch    40  of    455.    Elapsed: 0:00:12.\n",
            "  Batch    80  of    455.    Elapsed: 0:00:24.\n",
            "  Batch   120  of    455.    Elapsed: 0:00:37.\n",
            "  Batch   160  of    455.    Elapsed: 0:00:49.\n",
            "  Batch   200  of    455.    Elapsed: 0:01:01.\n",
            "  Batch   240  of    455.    Elapsed: 0:01:13.\n",
            "  Batch   280  of    455.    Elapsed: 0:01:26.\n",
            "  Batch   320  of    455.    Elapsed: 0:01:38.\n",
            "  Batch   360  of    455.    Elapsed: 0:01:50.\n",
            "  Batch   400  of    455.    Elapsed: 0:02:02.\n",
            "  Batch   440  of    455.    Elapsed: 0:02:15.\n",
            "\n",
            "---TRAIN METRICS---\n",
            "Metric        Value\n",
            "---------  --------\n",
            "loss       0.61343\n",
            "accuracy   0.720969\n",
            "precision  0.736936\n",
            "recall     0.684879\n",
            "f1         0.709954\n",
            "\n",
            "---VALIDATION METRICS---\n",
            "Metric        Value\n",
            "---------  --------\n",
            "loss       0.655544\n",
            "accuracy   0.64604\n",
            "precision  0.645455\n",
            "recall     0.68599\n",
            "f1         0.665105\n"
          ]
        }
      ],
      "source": [
        "\n",
        "training_stats = []\n",
        "epoch_loss_train = []\n",
        "total_t0 = time.time()\n",
        "\n",
        "# TRAINING\n",
        "for epoch in range(1, EPOCHS + 1):\n",
        "    model.train()\n",
        "    t0 = time.time()\n",
        "    print(\"\")\n",
        "    print(f\"================ Epoch {epoch} / {EPOCHS} ================\")\n",
        "    train_all_predictions = []\n",
        "    train_all_true_labels = []\n",
        "    for step, data in enumerate(train_loader):\n",
        "        if step % 40 == 0 and not step == 0:\n",
        "            elapsed = int(round(time.time() - t0))\n",
        "            elapsed = str(datetime.timedelta(seconds=elapsed))\n",
        "            print(f\"  Batch {step:>5,}  of  {len(train_loader):>5,}.    Elapsed: {elapsed:}.\")\n",
        "\n",
        "        targets = data[\"targets\"].to(device)\n",
        "        mask = data[\"attention_mask\"].to(device)\n",
        "        ids = data[\"input_ids\"].to(device)\n",
        "\n",
        "        model.zero_grad()\n",
        "\n",
        "        loss, logits = model(\n",
        "            ids, token_type_ids=None, attention_mask=mask, labels=targets\n",
        "        ).to_tuple()\n",
        "        epoch_loss_train.append(loss.item())\n",
        "\n",
        "        cpu_logits = logits.cpu().detach().numpy()\n",
        "        train_all_predictions.extend(np.argmax(cpu_logits, axis=1).flatten())\n",
        "        train_all_true_labels.extend(targets.cpu().numpy())\n",
        "\n",
        "        loss.backward()\n",
        "        optimizer.step()\n",
        "\n",
        "    train_accuracy = accuracy_score(train_all_true_labels, train_all_predictions)\n",
        "    train_precision, train_recall, train_f1, _ = precision_recall_fscore_support(\n",
        "        train_all_true_labels, train_all_predictions, average=\"binary\"\n",
        "    )\n",
        "    # TRAIN METRICS\n",
        "    train_metrics = {\n",
        "        \"loss\": np.mean(epoch_loss_train),\n",
        "        \"accuracy\": train_accuracy,\n",
        "        \"precision\": train_precision,\n",
        "        \"recall\": train_recall,\n",
        "        \"f1\": train_f1\n",
        "    }\n",
        "    print(\"\")\n",
        "    print('---TRAIN METRICS---')\n",
        "    print_metrics(train_metrics)\n",
        "\n",
        "    # VALIDATION METRICS\n",
        "    valid_metrics = get_metrics_and_loss(model, valid_loader)\n",
        "    print(\"\")\n",
        "    print('---VALIDATION METRICS---')\n",
        "    print_metrics(valid_metrics)\n",
        "\n",
        "    training_stats.append(\n",
        "        {\n",
        "            'epoch': epoch,\n",
        "            'Training Loss': train_metrics['loss'],\n",
        "            'Training Accuracy': train_metrics['accuracy'],\n",
        "            'Training Precision': train_metrics['precision'],\n",
        "            'Training Recall': train_metrics['recall'],\n",
        "            'Training F1': train_metrics['f1'],\n",
        "            'Validation Loss': valid_metrics['loss'],\n",
        "            'Validation Accuracy': valid_metrics['accuracy'],\n",
        "            'Validation Precision': valid_metrics['precision'],\n",
        "            'Validation Recall': valid_metrics['recall'],\n",
        "            'Validation F1': valid_metrics['f1']\n",
        "        }\n",
        "    )"
      ]
    },
    {
      "cell_type": "markdown",
      "metadata": {
        "id": "JboEtd_uk6n8"
      },
      "source": [
        "We can now have a closer look at the statistic."
      ]
    },
    {
      "cell_type": "code",
      "execution_count": 35,
      "metadata": {
        "colab": {
          "base_uri": "https://localhost:8080/",
          "height": 224
        },
        "execution": {
          "iopub.execute_input": "2024-02-27T16:03:51.422462Z",
          "iopub.status.busy": "2024-02-27T16:03:51.42215Z",
          "iopub.status.idle": "2024-02-27T16:03:51.437746Z",
          "shell.execute_reply": "2024-02-27T16:03:51.436913Z",
          "shell.execute_reply.started": "2024-02-27T16:03:51.422437Z"
        },
        "id": "zFHthK-Mk6n8",
        "outputId": "f43a0f55-43c9-461e-819c-190f211738a4",
        "trusted": true
      },
      "outputs": [
        {
          "data": {
            "application/vnd.google.colaboratory.intrinsic+json": {
              "summary": "{\n  \"name\": \"df_statistics\",\n  \"rows\": 4,\n  \"fields\": [\n    {\n      \"column\": \"epoch\",\n      \"properties\": {\n        \"dtype\": \"number\",\n        \"std\": 1,\n        \"min\": 1,\n        \"max\": 4,\n        \"num_unique_values\": 4,\n        \"samples\": [\n          2,\n          4,\n          1\n        ],\n        \"semantic_type\": \"\",\n        \"description\": \"\"\n      }\n    },\n    {\n      \"column\": \"Training Loss\",\n      \"properties\": {\n        \"dtype\": \"number\",\n        \"std\": 0.025785110355270306,\n        \"min\": 0.6134300850986779,\n        \"max\": 0.6735815312836196,\n        \"num_unique_values\": 4,\n        \"samples\": [\n          0.6509971282966844,\n          0.6134300850986779,\n          0.6735815312836196\n        ],\n        \"semantic_type\": \"\",\n        \"description\": \"\"\n      }\n    },\n    {\n      \"column\": \"Training Accuracy\",\n      \"properties\": {\n        \"dtype\": \"number\",\n        \"std\": 0.06085804235940081,\n        \"min\": 0.5809025866813429,\n        \"max\": 0.720968629609246,\n        \"num_unique_values\": 4,\n        \"samples\": [\n          0.658778205833792,\n          0.720968629609246,\n          0.5809025866813429\n        ],\n        \"semantic_type\": \"\",\n        \"description\": \"\"\n      }\n    },\n    {\n      \"column\": \"Training Precision\",\n      \"properties\": {\n        \"dtype\": \"number\",\n        \"std\": 0.06762525824527851,\n        \"min\": 0.5815923207227555,\n        \"max\": 0.7369358669833729,\n        \"num_unique_values\": 4,\n        \"samples\": [\n          0.672289156626506,\n          0.7369358669833729,\n          0.5815923207227555\n        ],\n        \"semantic_type\": \"\",\n        \"description\": \"\"\n      }\n    },\n    {\n      \"column\": \"Training Recall\",\n      \"properties\": {\n        \"dtype\": \"number\",\n        \"std\": 0.05077762556575697,\n        \"min\": 0.5684326710816777,\n        \"max\": 0.684878587196468,\n        \"num_unique_values\": 4,\n        \"samples\": [\n          0.6158940397350994,\n          0.684878587196468,\n          0.5684326710816777\n        ],\n        \"semantic_type\": \"\",\n        \"description\": \"\"\n      }\n    },\n    {\n      \"column\": \"Training F1\",\n      \"properties\": {\n        \"dtype\": \"number\",\n        \"std\": 0.05856030768018179,\n        \"min\": 0.574937203460787,\n        \"max\": 0.7099542334096111,\n        \"num_unique_values\": 4,\n        \"samples\": [\n          0.6428571428571429,\n          0.7099542334096111,\n          0.574937203460787\n        ],\n        \"semantic_type\": \"\",\n        \"description\": \"\"\n      }\n    },\n    {\n      \"column\": \"Validation Loss\",\n      \"properties\": {\n        \"dtype\": \"number\",\n        \"std\": 0.005421740157009784,\n        \"min\": 0.6555440677147285,\n        \"max\": 0.6668491965415431,\n        \"num_unique_values\": 4,\n        \"samples\": [\n          0.6652016902671141,\n          0.6555440677147285,\n          0.6668491965415431\n        ],\n        \"semantic_type\": \"\",\n        \"description\": \"\"\n      }\n    },\n    {\n      \"column\": \"Validation Accuracy\",\n      \"properties\": {\n        \"dtype\": \"number\",\n        \"std\": 0.02066003964612034,\n        \"min\": 0.599009900990099,\n        \"max\": 0.6460396039603961,\n        \"num_unique_values\": 4,\n        \"samples\": [\n          0.6089108910891089,\n          0.6460396039603961,\n          0.599009900990099\n        ],\n        \"semantic_type\": \"\",\n        \"description\": \"\"\n      }\n    },\n    {\n      \"column\": \"Validation Precision\",\n      \"properties\": {\n        \"dtype\": \"number\",\n        \"std\": 0.02517905478440061,\n        \"min\": 0.5903614457831325,\n        \"max\": 0.6454545454545455,\n        \"num_unique_values\": 4,\n        \"samples\": [\n          0.5968379446640316,\n          0.6454545454545455,\n          0.5903614457831325\n        ],\n        \"semantic_type\": \"\",\n        \"description\": \"\"\n      }\n    },\n    {\n      \"column\": \"Validation Recall\",\n      \"properties\": {\n        \"dtype\": \"number\",\n        \"std\": 0.019869505119570162,\n        \"min\": 0.6859903381642513,\n        \"max\": 0.7294685990338164,\n        \"num_unique_values\": 4,\n        \"samples\": [\n          0.7294685990338164,\n          0.6859903381642513,\n          0.7101449275362319\n        ],\n        \"semantic_type\": \"\",\n        \"description\": \"\"\n      }\n    },\n    {\n      \"column\": \"Validation F1\",\n      \"properties\": {\n        \"dtype\": \"number\",\n        \"std\": 0.008364318298952464,\n        \"min\": 0.6447368421052632,\n        \"max\": 0.6651053864168619,\n        \"num_unique_values\": 4,\n        \"samples\": [\n          0.6565217391304348,\n          0.6651053864168619,\n          0.6447368421052632\n        ],\n        \"semantic_type\": \"\",\n        \"description\": \"\"\n      }\n    }\n  ]\n}",
              "type": "dataframe",
              "variable_name": "df_statistics"
            },
            "text/html": [
              "\n",
              "  <div id=\"df-f3efe29a-3856-45d5-8df9-9f73cd833447\" class=\"colab-df-container\">\n",
              "    <div>\n",
              "<style scoped>\n",
              "    .dataframe tbody tr th:only-of-type {\n",
              "        vertical-align: middle;\n",
              "    }\n",
              "\n",
              "    .dataframe tbody tr th {\n",
              "        vertical-align: top;\n",
              "    }\n",
              "\n",
              "    .dataframe thead th {\n",
              "        text-align: right;\n",
              "    }\n",
              "</style>\n",
              "<table border=\"1\" class=\"dataframe\">\n",
              "  <thead>\n",
              "    <tr style=\"text-align: right;\">\n",
              "      <th></th>\n",
              "      <th>Training Loss</th>\n",
              "      <th>Training Accuracy</th>\n",
              "      <th>Training Precision</th>\n",
              "      <th>Training Recall</th>\n",
              "      <th>Training F1</th>\n",
              "      <th>Validation Loss</th>\n",
              "      <th>Validation Accuracy</th>\n",
              "      <th>Validation Precision</th>\n",
              "      <th>Validation Recall</th>\n",
              "      <th>Validation F1</th>\n",
              "    </tr>\n",
              "    <tr>\n",
              "      <th>epoch</th>\n",
              "      <th></th>\n",
              "      <th></th>\n",
              "      <th></th>\n",
              "      <th></th>\n",
              "      <th></th>\n",
              "      <th></th>\n",
              "      <th></th>\n",
              "      <th></th>\n",
              "      <th></th>\n",
              "      <th></th>\n",
              "    </tr>\n",
              "  </thead>\n",
              "  <tbody>\n",
              "    <tr>\n",
              "      <th>1</th>\n",
              "      <td>0.673582</td>\n",
              "      <td>0.580903</td>\n",
              "      <td>0.581592</td>\n",
              "      <td>0.568433</td>\n",
              "      <td>0.574937</td>\n",
              "      <td>0.666849</td>\n",
              "      <td>0.599010</td>\n",
              "      <td>0.590361</td>\n",
              "      <td>0.710145</td>\n",
              "      <td>0.644737</td>\n",
              "    </tr>\n",
              "    <tr>\n",
              "      <th>2</th>\n",
              "      <td>0.650997</td>\n",
              "      <td>0.658778</td>\n",
              "      <td>0.672289</td>\n",
              "      <td>0.615894</td>\n",
              "      <td>0.642857</td>\n",
              "      <td>0.665202</td>\n",
              "      <td>0.608911</td>\n",
              "      <td>0.596838</td>\n",
              "      <td>0.729469</td>\n",
              "      <td>0.656522</td>\n",
              "    </tr>\n",
              "    <tr>\n",
              "      <th>3</th>\n",
              "      <td>0.631950</td>\n",
              "      <td>0.694551</td>\n",
              "      <td>0.708929</td>\n",
              "      <td>0.657285</td>\n",
              "      <td>0.682131</td>\n",
              "      <td>0.658275</td>\n",
              "      <td>0.626238</td>\n",
              "      <td>0.621739</td>\n",
              "      <td>0.690821</td>\n",
              "      <td>0.654462</td>\n",
              "    </tr>\n",
              "    <tr>\n",
              "      <th>4</th>\n",
              "      <td>0.613430</td>\n",
              "      <td>0.720969</td>\n",
              "      <td>0.736936</td>\n",
              "      <td>0.684879</td>\n",
              "      <td>0.709954</td>\n",
              "      <td>0.655544</td>\n",
              "      <td>0.646040</td>\n",
              "      <td>0.645455</td>\n",
              "      <td>0.685990</td>\n",
              "      <td>0.665105</td>\n",
              "    </tr>\n",
              "  </tbody>\n",
              "</table>\n",
              "</div>\n",
              "    <div class=\"colab-df-buttons\">\n",
              "\n",
              "  <div class=\"colab-df-container\">\n",
              "    <button class=\"colab-df-convert\" onclick=\"convertToInteractive('df-f3efe29a-3856-45d5-8df9-9f73cd833447')\"\n",
              "            title=\"Convert this dataframe to an interactive table.\"\n",
              "            style=\"display:none;\">\n",
              "\n",
              "  <svg xmlns=\"http://www.w3.org/2000/svg\" height=\"24px\" viewBox=\"0 -960 960 960\">\n",
              "    <path d=\"M120-120v-720h720v720H120Zm60-500h600v-160H180v160Zm220 220h160v-160H400v160Zm0 220h160v-160H400v160ZM180-400h160v-160H180v160Zm440 0h160v-160H620v160ZM180-180h160v-160H180v160Zm440 0h160v-160H620v160Z\"/>\n",
              "  </svg>\n",
              "    </button>\n",
              "\n",
              "  <style>\n",
              "    .colab-df-container {\n",
              "      display:flex;\n",
              "      gap: 12px;\n",
              "    }\n",
              "\n",
              "    .colab-df-convert {\n",
              "      background-color: #E8F0FE;\n",
              "      border: none;\n",
              "      border-radius: 50%;\n",
              "      cursor: pointer;\n",
              "      display: none;\n",
              "      fill: #1967D2;\n",
              "      height: 32px;\n",
              "      padding: 0 0 0 0;\n",
              "      width: 32px;\n",
              "    }\n",
              "\n",
              "    .colab-df-convert:hover {\n",
              "      background-color: #E2EBFA;\n",
              "      box-shadow: 0px 1px 2px rgba(60, 64, 67, 0.3), 0px 1px 3px 1px rgba(60, 64, 67, 0.15);\n",
              "      fill: #174EA6;\n",
              "    }\n",
              "\n",
              "    .colab-df-buttons div {\n",
              "      margin-bottom: 4px;\n",
              "    }\n",
              "\n",
              "    [theme=dark] .colab-df-convert {\n",
              "      background-color: #3B4455;\n",
              "      fill: #D2E3FC;\n",
              "    }\n",
              "\n",
              "    [theme=dark] .colab-df-convert:hover {\n",
              "      background-color: #434B5C;\n",
              "      box-shadow: 0px 1px 3px 1px rgba(0, 0, 0, 0.15);\n",
              "      filter: drop-shadow(0px 1px 2px rgba(0, 0, 0, 0.3));\n",
              "      fill: #FFFFFF;\n",
              "    }\n",
              "  </style>\n",
              "\n",
              "    <script>\n",
              "      const buttonEl =\n",
              "        document.querySelector('#df-f3efe29a-3856-45d5-8df9-9f73cd833447 button.colab-df-convert');\n",
              "      buttonEl.style.display =\n",
              "        google.colab.kernel.accessAllowed ? 'block' : 'none';\n",
              "\n",
              "      async function convertToInteractive(key) {\n",
              "        const element = document.querySelector('#df-f3efe29a-3856-45d5-8df9-9f73cd833447');\n",
              "        const dataTable =\n",
              "          await google.colab.kernel.invokeFunction('convertToInteractive',\n",
              "                                                    [key], {});\n",
              "        if (!dataTable) return;\n",
              "\n",
              "        const docLinkHtml = 'Like what you see? Visit the ' +\n",
              "          '<a target=\"_blank\" href=https://colab.research.google.com/notebooks/data_table.ipynb>data table notebook</a>'\n",
              "          + ' to learn more about interactive tables.';\n",
              "        element.innerHTML = '';\n",
              "        dataTable['output_type'] = 'display_data';\n",
              "        await google.colab.output.renderOutput(dataTable, element);\n",
              "        const docLink = document.createElement('div');\n",
              "        docLink.innerHTML = docLinkHtml;\n",
              "        element.appendChild(docLink);\n",
              "      }\n",
              "    </script>\n",
              "  </div>\n",
              "\n",
              "\n",
              "<div id=\"df-a2e0accf-2d5a-4ca0-a464-e53fa5402b9e\">\n",
              "  <button class=\"colab-df-quickchart\" onclick=\"quickchart('df-a2e0accf-2d5a-4ca0-a464-e53fa5402b9e')\"\n",
              "            title=\"Suggest charts\"\n",
              "            style=\"display:none;\">\n",
              "\n",
              "<svg xmlns=\"http://www.w3.org/2000/svg\" height=\"24px\"viewBox=\"0 0 24 24\"\n",
              "     width=\"24px\">\n",
              "    <g>\n",
              "        <path d=\"M19 3H5c-1.1 0-2 .9-2 2v14c0 1.1.9 2 2 2h14c1.1 0 2-.9 2-2V5c0-1.1-.9-2-2-2zM9 17H7v-7h2v7zm4 0h-2V7h2v10zm4 0h-2v-4h2v4z\"/>\n",
              "    </g>\n",
              "</svg>\n",
              "  </button>\n",
              "\n",
              "<style>\n",
              "  .colab-df-quickchart {\n",
              "      --bg-color: #E8F0FE;\n",
              "      --fill-color: #1967D2;\n",
              "      --hover-bg-color: #E2EBFA;\n",
              "      --hover-fill-color: #174EA6;\n",
              "      --disabled-fill-color: #AAA;\n",
              "      --disabled-bg-color: #DDD;\n",
              "  }\n",
              "\n",
              "  [theme=dark] .colab-df-quickchart {\n",
              "      --bg-color: #3B4455;\n",
              "      --fill-color: #D2E3FC;\n",
              "      --hover-bg-color: #434B5C;\n",
              "      --hover-fill-color: #FFFFFF;\n",
              "      --disabled-bg-color: #3B4455;\n",
              "      --disabled-fill-color: #666;\n",
              "  }\n",
              "\n",
              "  .colab-df-quickchart {\n",
              "    background-color: var(--bg-color);\n",
              "    border: none;\n",
              "    border-radius: 50%;\n",
              "    cursor: pointer;\n",
              "    display: none;\n",
              "    fill: var(--fill-color);\n",
              "    height: 32px;\n",
              "    padding: 0;\n",
              "    width: 32px;\n",
              "  }\n",
              "\n",
              "  .colab-df-quickchart:hover {\n",
              "    background-color: var(--hover-bg-color);\n",
              "    box-shadow: 0 1px 2px rgba(60, 64, 67, 0.3), 0 1px 3px 1px rgba(60, 64, 67, 0.15);\n",
              "    fill: var(--button-hover-fill-color);\n",
              "  }\n",
              "\n",
              "  .colab-df-quickchart-complete:disabled,\n",
              "  .colab-df-quickchart-complete:disabled:hover {\n",
              "    background-color: var(--disabled-bg-color);\n",
              "    fill: var(--disabled-fill-color);\n",
              "    box-shadow: none;\n",
              "  }\n",
              "\n",
              "  .colab-df-spinner {\n",
              "    border: 2px solid var(--fill-color);\n",
              "    border-color: transparent;\n",
              "    border-bottom-color: var(--fill-color);\n",
              "    animation:\n",
              "      spin 1s steps(1) infinite;\n",
              "  }\n",
              "\n",
              "  @keyframes spin {\n",
              "    0% {\n",
              "      border-color: transparent;\n",
              "      border-bottom-color: var(--fill-color);\n",
              "      border-left-color: var(--fill-color);\n",
              "    }\n",
              "    20% {\n",
              "      border-color: transparent;\n",
              "      border-left-color: var(--fill-color);\n",
              "      border-top-color: var(--fill-color);\n",
              "    }\n",
              "    30% {\n",
              "      border-color: transparent;\n",
              "      border-left-color: var(--fill-color);\n",
              "      border-top-color: var(--fill-color);\n",
              "      border-right-color: var(--fill-color);\n",
              "    }\n",
              "    40% {\n",
              "      border-color: transparent;\n",
              "      border-right-color: var(--fill-color);\n",
              "      border-top-color: var(--fill-color);\n",
              "    }\n",
              "    60% {\n",
              "      border-color: transparent;\n",
              "      border-right-color: var(--fill-color);\n",
              "    }\n",
              "    80% {\n",
              "      border-color: transparent;\n",
              "      border-right-color: var(--fill-color);\n",
              "      border-bottom-color: var(--fill-color);\n",
              "    }\n",
              "    90% {\n",
              "      border-color: transparent;\n",
              "      border-bottom-color: var(--fill-color);\n",
              "    }\n",
              "  }\n",
              "</style>\n",
              "\n",
              "  <script>\n",
              "    async function quickchart(key) {\n",
              "      const quickchartButtonEl =\n",
              "        document.querySelector('#' + key + ' button');\n",
              "      quickchartButtonEl.disabled = true;  // To prevent multiple clicks.\n",
              "      quickchartButtonEl.classList.add('colab-df-spinner');\n",
              "      try {\n",
              "        const charts = await google.colab.kernel.invokeFunction(\n",
              "            'suggestCharts', [key], {});\n",
              "      } catch (error) {\n",
              "        console.error('Error during call to suggestCharts:', error);\n",
              "      }\n",
              "      quickchartButtonEl.classList.remove('colab-df-spinner');\n",
              "      quickchartButtonEl.classList.add('colab-df-quickchart-complete');\n",
              "    }\n",
              "    (() => {\n",
              "      let quickchartButtonEl =\n",
              "        document.querySelector('#df-a2e0accf-2d5a-4ca0-a464-e53fa5402b9e button');\n",
              "      quickchartButtonEl.style.display =\n",
              "        google.colab.kernel.accessAllowed ? 'block' : 'none';\n",
              "    })();\n",
              "  </script>\n",
              "</div>\n",
              "\n",
              "  <div id=\"id_f2f88049-0683-40f7-9009-164afce03ce1\">\n",
              "    <style>\n",
              "      .colab-df-generate {\n",
              "        background-color: #E8F0FE;\n",
              "        border: none;\n",
              "        border-radius: 50%;\n",
              "        cursor: pointer;\n",
              "        display: none;\n",
              "        fill: #1967D2;\n",
              "        height: 32px;\n",
              "        padding: 0 0 0 0;\n",
              "        width: 32px;\n",
              "      }\n",
              "\n",
              "      .colab-df-generate:hover {\n",
              "        background-color: #E2EBFA;\n",
              "        box-shadow: 0px 1px 2px rgba(60, 64, 67, 0.3), 0px 1px 3px 1px rgba(60, 64, 67, 0.15);\n",
              "        fill: #174EA6;\n",
              "      }\n",
              "\n",
              "      [theme=dark] .colab-df-generate {\n",
              "        background-color: #3B4455;\n",
              "        fill: #D2E3FC;\n",
              "      }\n",
              "\n",
              "      [theme=dark] .colab-df-generate:hover {\n",
              "        background-color: #434B5C;\n",
              "        box-shadow: 0px 1px 3px 1px rgba(0, 0, 0, 0.15);\n",
              "        filter: drop-shadow(0px 1px 2px rgba(0, 0, 0, 0.3));\n",
              "        fill: #FFFFFF;\n",
              "      }\n",
              "    </style>\n",
              "    <button class=\"colab-df-generate\" onclick=\"generateWithVariable('df_statistics')\"\n",
              "            title=\"Generate code using this dataframe.\"\n",
              "            style=\"display:none;\">\n",
              "\n",
              "  <svg xmlns=\"http://www.w3.org/2000/svg\" height=\"24px\"viewBox=\"0 0 24 24\"\n",
              "       width=\"24px\">\n",
              "    <path d=\"M7,19H8.4L18.45,9,17,7.55,7,17.6ZM5,21V16.75L18.45,3.32a2,2,0,0,1,2.83,0l1.4,1.43a1.91,1.91,0,0,1,.58,1.4,1.91,1.91,0,0,1-.58,1.4L9.25,21ZM18.45,9,17,7.55Zm-12,3A5.31,5.31,0,0,0,4.9,8.1,5.31,5.31,0,0,0,1,6.5,5.31,5.31,0,0,0,4.9,4.9,5.31,5.31,0,0,0,6.5,1,5.31,5.31,0,0,0,8.1,4.9,5.31,5.31,0,0,0,12,6.5,5.46,5.46,0,0,0,6.5,12Z\"/>\n",
              "  </svg>\n",
              "    </button>\n",
              "    <script>\n",
              "      (() => {\n",
              "      const buttonEl =\n",
              "        document.querySelector('#id_f2f88049-0683-40f7-9009-164afce03ce1 button.colab-df-generate');\n",
              "      buttonEl.style.display =\n",
              "        google.colab.kernel.accessAllowed ? 'block' : 'none';\n",
              "\n",
              "      buttonEl.onclick = () => {\n",
              "        google.colab.notebook.generateWithVariable('df_statistics');\n",
              "      }\n",
              "      })();\n",
              "    </script>\n",
              "  </div>\n",
              "\n",
              "    </div>\n",
              "  </div>\n"
            ],
            "text/plain": [
              "       Training Loss  Training Accuracy  Training Precision  Training Recall  \\\n",
              "epoch                                                                          \n",
              "1           0.673582           0.580903            0.581592         0.568433   \n",
              "2           0.650997           0.658778            0.672289         0.615894   \n",
              "3           0.631950           0.694551            0.708929         0.657285   \n",
              "4           0.613430           0.720969            0.736936         0.684879   \n",
              "\n",
              "       Training F1  Validation Loss  Validation Accuracy  \\\n",
              "epoch                                                      \n",
              "1         0.574937         0.666849             0.599010   \n",
              "2         0.642857         0.665202             0.608911   \n",
              "3         0.682131         0.658275             0.626238   \n",
              "4         0.709954         0.655544             0.646040   \n",
              "\n",
              "       Validation Precision  Validation Recall  Validation F1  \n",
              "epoch                                                          \n",
              "1                  0.590361           0.710145       0.644737  \n",
              "2                  0.596838           0.729469       0.656522  \n",
              "3                  0.621739           0.690821       0.654462  \n",
              "4                  0.645455           0.685990       0.665105  "
            ]
          },
          "execution_count": 35,
          "metadata": {},
          "output_type": "execute_result"
        }
      ],
      "source": [
        "df_statistics = pd.DataFrame(data=training_stats)\n",
        "df_statistics = df_statistics.set_index('epoch')\n",
        "df_statistics"
      ]
    },
    {
      "cell_type": "markdown",
      "metadata": {
        "id": "0bQskPqhk6n9"
      },
      "source": [
        "Let´s visualize the accuracy both for training and validation."
      ]
    },
    {
      "cell_type": "code",
      "execution_count": 36,
      "metadata": {
        "colab": {
          "base_uri": "https://localhost:8080/",
          "height": 472
        },
        "execution": {
          "iopub.execute_input": "2024-02-27T16:06:30.623489Z",
          "iopub.status.busy": "2024-02-27T16:06:30.623128Z",
          "iopub.status.idle": "2024-02-27T16:06:30.831203Z",
          "shell.execute_reply": "2024-02-27T16:06:30.830077Z",
          "shell.execute_reply.started": "2024-02-27T16:06:30.623461Z"
        },
        "id": "vERFqRP8k6n9",
        "outputId": "0c499a34-7d45-4c93-910d-091b6a0416b8",
        "trusted": true
      },
      "outputs": [
        {
          "data": {
            "image/png": "[encoded data removed]",
            "text/plain": [
              "<Figure size 640x480 with 1 Axes>"
            ]
          },
          "metadata": {},
          "output_type": "display_data"
        }
      ],
      "source": [
        "plt.plot(df_statistics['Training Loss'], 'b-o', label='Training')\n",
        "plt.plot(df_statistics['Validation Loss'], 'g-o', label='Validation')\n",
        "plt.title(\"Training & Validation Loss\")\n",
        "plt.xlabel(\"Epoch\")\n",
        "plt.ylabel(\"Loss\")\n",
        "plt.legend()\n",
        "plt.xticks(list(range(1, EPOCHS+1)))\n",
        "plt.savefig(os.path.join(save_directory, 'train_valid_loss_plot.png'))\n",
        "plt.show()"
      ]
    },
    {
      "cell_type": "markdown",
      "metadata": {
        "id": "0gu8air4pOKr"
      },
      "source": [
        "## Save model run, hyperparameters, data, ..."
      ]
    },
    {
      "cell_type": "code",
      "execution_count": 37,
      "metadata": {
        "id": "1RI8-Wn6iFXJ"
      },
      "outputs": [],
      "source": [
        "# tokenizer.save_pretrained(save_directory) # bert-base-uncased\n",
        "model.save_pretrained(save_directory)"
      ]
    },
    {
      "cell_type": "code",
      "execution_count": 38,
      "metadata": {
        "id": "nN95Q0iLiMHX"
      },
      "outputs": [],
      "source": [
        "df_statistics.to_json(f\"{save_directory}/trainvalid_statistics.jsonl\", orient='records', lines=True)"
      ]
    },
    {
      "cell_type": "markdown",
      "metadata": {
        "id": "rc1P_9Lyk6n-"
      },
      "source": [
        "---"
      ]
    },
    {
      "cell_type": "markdown",
      "metadata": {
        "id": "bjsv8Lf4k6n-"
      },
      "source": [
        "## Testing original dataset\n",
        "\n",
        "The last step we have to apply our model to the *real* test data. We have to bring the data into the same structure as we did for the training. Therefore we need to create another <tt>Dataset</tt> class."
      ]
    },
    {
      "cell_type": "code",
      "execution_count": 39,
      "metadata": {
        "colab": {
          "base_uri": "https://localhost:8080/",
          "height": 206
        },
        "execution": {
          "iopub.execute_input": "2024-02-27T16:03:51.627338Z",
          "iopub.status.busy": "2024-02-27T16:03:51.626969Z",
          "iopub.status.idle": "2024-02-27T16:03:51.636769Z",
          "shell.execute_reply": "2024-02-27T16:03:51.635068Z",
          "shell.execute_reply.started": "2024-02-27T16:03:51.627305Z"
        },
        "id": "jkIvdSyuk6n-",
        "outputId": "2aa40953-6e2f-43e5-b8ac-890a9a9ffdbb",
        "trusted": true
      },
      "outputs": [
        {
          "data": {
            "application/vnd.google.colaboratory.intrinsic+json": {
              "summary": "{\n  \"name\": \"test_data\",\n  \"rows\": 60,\n  \"fields\": [\n    {\n      \"column\": \"text\",\n      \"properties\": {\n        \"dtype\": \"string\",\n        \"num_unique_values\": 60,\n        \"samples\": [\n          \"Compose an engaging travel blog post about a recent trip to Hawaii, highlighting cultural experiences and must-see attractions.\",\n          \"Edit the following paragraph to correct any grammatical errors:\\nShe didn't remembre where is her purse, so I thinks its in the car but he's say it's on kitchen table but he are not sure, and then they asked me to looking for it, she's say, \\\"Can you?\\\", and I responds with, \\\"Maybe, but ain't no sure,\\\" and he not heard me, and, \\\"What?\\\", he asks, \\\"Did you found it?\\\".\",\n          \"You are given two sorted lists of size m and n. Implement a function to find the kth smallest element in the union of the two lists with linear complexity.\"\n        ],\n        \"semantic_type\": \"\",\n        \"description\": \"\"\n      }\n    },\n    {\n      \"column\": \"target\",\n      \"properties\": {\n        \"dtype\": \"number\",\n        \"std\": 0,\n        \"min\": 0,\n        \"max\": 1,\n        \"num_unique_values\": 2,\n        \"samples\": [\n          0,\n          1\n        ],\n        \"semantic_type\": \"\",\n        \"description\": \"\"\n      }\n    }\n  ]\n}",
              "type": "dataframe",
              "variable_name": "test_data"
            },
            "text/html": [
              "\n",
              "  <div id=\"df-ff08f730-6537-4088-b894-eb7afa56c5e3\" class=\"colab-df-container\">\n",
              "    <div>\n",
              "<style scoped>\n",
              "    .dataframe tbody tr th:only-of-type {\n",
              "        vertical-align: middle;\n",
              "    }\n",
              "\n",
              "    .dataframe tbody tr th {\n",
              "        vertical-align: top;\n",
              "    }\n",
              "\n",
              "    .dataframe thead th {\n",
              "        text-align: right;\n",
              "    }\n",
              "</style>\n",
              "<table border=\"1\" class=\"dataframe\">\n",
              "  <thead>\n",
              "    <tr style=\"text-align: right;\">\n",
              "      <th></th>\n",
              "      <th>text</th>\n",
              "      <th>target</th>\n",
              "    </tr>\n",
              "  </thead>\n",
              "  <tbody>\n",
              "    <tr>\n",
              "      <th>0</th>\n",
              "      <td>Compose an engaging travel blog post about a r...</td>\n",
              "      <td>1</td>\n",
              "    </tr>\n",
              "    <tr>\n",
              "      <th>1</th>\n",
              "      <td>Imagine you are writing a blog post comparing ...</td>\n",
              "      <td>0</td>\n",
              "    </tr>\n",
              "    <tr>\n",
              "      <th>2</th>\n",
              "      <td>Write a descriptive paragraph about a bustling...</td>\n",
              "      <td>1</td>\n",
              "    </tr>\n",
              "    <tr>\n",
              "      <th>3</th>\n",
              "      <td>Could you write a captivating short story begi...</td>\n",
              "      <td>1</td>\n",
              "    </tr>\n",
              "    <tr>\n",
              "      <th>4</th>\n",
              "      <td>Craft an intriguing opening paragraph for a fi...</td>\n",
              "      <td>0</td>\n",
              "    </tr>\n",
              "  </tbody>\n",
              "</table>\n",
              "</div>\n",
              "    <div class=\"colab-df-buttons\">\n",
              "\n",
              "  <div class=\"colab-df-container\">\n",
              "    <button class=\"colab-df-convert\" onclick=\"convertToInteractive('df-ff08f730-6537-4088-b894-eb7afa56c5e3')\"\n",
              "            title=\"Convert this dataframe to an interactive table.\"\n",
              "            style=\"display:none;\">\n",
              "\n",
              "  <svg xmlns=\"http://www.w3.org/2000/svg\" height=\"24px\" viewBox=\"0 -960 960 960\">\n",
              "    <path d=\"M120-120v-720h720v720H120Zm60-500h600v-160H180v160Zm220 220h160v-160H400v160Zm0 220h160v-160H400v160ZM180-400h160v-160H180v160Zm440 0h160v-160H620v160ZM180-180h160v-160H180v160Zm440 0h160v-160H620v160Z\"/>\n",
              "  </svg>\n",
              "    </button>\n",
              "\n",
              "  <style>\n",
              "    .colab-df-container {\n",
              "      display:flex;\n",
              "      gap: 12px;\n",
              "    }\n",
              "\n",
              "    .colab-df-convert {\n",
              "      background-color: #E8F0FE;\n",
              "      border: none;\n",
              "      border-radius: 50%;\n",
              "      cursor: pointer;\n",
              "      display: none;\n",
              "      fill: #1967D2;\n",
              "      height: 32px;\n",
              "      padding: 0 0 0 0;\n",
              "      width: 32px;\n",
              "    }\n",
              "\n",
              "    .colab-df-convert:hover {\n",
              "      background-color: #E2EBFA;\n",
              "      box-shadow: 0px 1px 2px rgba(60, 64, 67, 0.3), 0px 1px 3px 1px rgba(60, 64, 67, 0.15);\n",
              "      fill: #174EA6;\n",
              "    }\n",
              "\n",
              "    .colab-df-buttons div {\n",
              "      margin-bottom: 4px;\n",
              "    }\n",
              "\n",
              "    [theme=dark] .colab-df-convert {\n",
              "      background-color: #3B4455;\n",
              "      fill: #D2E3FC;\n",
              "    }\n",
              "\n",
              "    [theme=dark] .colab-df-convert:hover {\n",
              "      background-color: #434B5C;\n",
              "      box-shadow: 0px 1px 3px 1px rgba(0, 0, 0, 0.15);\n",
              "      filter: drop-shadow(0px 1px 2px rgba(0, 0, 0, 0.3));\n",
              "      fill: #FFFFFF;\n",
              "    }\n",
              "  </style>\n",
              "\n",
              "    <script>\n",
              "      const buttonEl =\n",
              "        document.querySelector('#df-ff08f730-6537-4088-b894-eb7afa56c5e3 button.colab-df-convert');\n",
              "      buttonEl.style.display =\n",
              "        google.colab.kernel.accessAllowed ? 'block' : 'none';\n",
              "\n",
              "      async function convertToInteractive(key) {\n",
              "        const element = document.querySelector('#df-ff08f730-6537-4088-b894-eb7afa56c5e3');\n",
              "        const dataTable =\n",
              "          await google.colab.kernel.invokeFunction('convertToInteractive',\n",
              "                                                    [key], {});\n",
              "        if (!dataTable) return;\n",
              "\n",
              "        const docLinkHtml = 'Like what you see? Visit the ' +\n",
              "          '<a target=\"_blank\" href=https://colab.research.google.com/notebooks/data_table.ipynb>data table notebook</a>'\n",
              "          + ' to learn more about interactive tables.';\n",
              "        element.innerHTML = '';\n",
              "        dataTable['output_type'] = 'display_data';\n",
              "        await google.colab.output.renderOutput(dataTable, element);\n",
              "        const docLink = document.createElement('div');\n",
              "        docLink.innerHTML = docLinkHtml;\n",
              "        element.appendChild(docLink);\n",
              "      }\n",
              "    </script>\n",
              "  </div>\n",
              "\n",
              "\n",
              "<div id=\"df-b9d66d26-5605-4808-942f-0242441f9746\">\n",
              "  <button class=\"colab-df-quickchart\" onclick=\"quickchart('df-b9d66d26-5605-4808-942f-0242441f9746')\"\n",
              "            title=\"Suggest charts\"\n",
              "            style=\"display:none;\">\n",
              "\n",
              "<svg xmlns=\"http://www.w3.org/2000/svg\" height=\"24px\"viewBox=\"0 0 24 24\"\n",
              "     width=\"24px\">\n",
              "    <g>\n",
              "        <path d=\"M19 3H5c-1.1 0-2 .9-2 2v14c0 1.1.9 2 2 2h14c1.1 0 2-.9 2-2V5c0-1.1-.9-2-2-2zM9 17H7v-7h2v7zm4 0h-2V7h2v10zm4 0h-2v-4h2v4z\"/>\n",
              "    </g>\n",
              "</svg>\n",
              "  </button>\n",
              "\n",
              "<style>\n",
              "  .colab-df-quickchart {\n",
              "      --bg-color: #E8F0FE;\n",
              "      --fill-color: #1967D2;\n",
              "      --hover-bg-color: #E2EBFA;\n",
              "      --hover-fill-color: #174EA6;\n",
              "      --disabled-fill-color: #AAA;\n",
              "      --disabled-bg-color: #DDD;\n",
              "  }\n",
              "\n",
              "  [theme=dark] .colab-df-quickchart {\n",
              "      --bg-color: #3B4455;\n",
              "      --fill-color: #D2E3FC;\n",
              "      --hover-bg-color: #434B5C;\n",
              "      --hover-fill-color: #FFFFFF;\n",
              "      --disabled-bg-color: #3B4455;\n",
              "      --disabled-fill-color: #666;\n",
              "  }\n",
              "\n",
              "  .colab-df-quickchart {\n",
              "    background-color: var(--bg-color);\n",
              "    border: none;\n",
              "    border-radius: 50%;\n",
              "    cursor: pointer;\n",
              "    display: none;\n",
              "    fill: var(--fill-color);\n",
              "    height: 32px;\n",
              "    padding: 0;\n",
              "    width: 32px;\n",
              "  }\n",
              "\n",
              "  .colab-df-quickchart:hover {\n",
              "    background-color: var(--hover-bg-color);\n",
              "    box-shadow: 0 1px 2px rgba(60, 64, 67, 0.3), 0 1px 3px 1px rgba(60, 64, 67, 0.15);\n",
              "    fill: var(--button-hover-fill-color);\n",
              "  }\n",
              "\n",
              "  .colab-df-quickchart-complete:disabled,\n",
              "  .colab-df-quickchart-complete:disabled:hover {\n",
              "    background-color: var(--disabled-bg-color);\n",
              "    fill: var(--disabled-fill-color);\n",
              "    box-shadow: none;\n",
              "  }\n",
              "\n",
              "  .colab-df-spinner {\n",
              "    border: 2px solid var(--fill-color);\n",
              "    border-color: transparent;\n",
              "    border-bottom-color: var(--fill-color);\n",
              "    animation:\n",
              "      spin 1s steps(1) infinite;\n",
              "  }\n",
              "\n",
              "  @keyframes spin {\n",
              "    0% {\n",
              "      border-color: transparent;\n",
              "      border-bottom-color: var(--fill-color);\n",
              "      border-left-color: var(--fill-color);\n",
              "    }\n",
              "    20% {\n",
              "      border-color: transparent;\n",
              "      border-left-color: var(--fill-color);\n",
              "      border-top-color: var(--fill-color);\n",
              "    }\n",
              "    30% {\n",
              "      border-color: transparent;\n",
              "      border-left-color: var(--fill-color);\n",
              "      border-top-color: var(--fill-color);\n",
              "      border-right-color: var(--fill-color);\n",
              "    }\n",
              "    40% {\n",
              "      border-color: transparent;\n",
              "      border-right-color: var(--fill-color);\n",
              "      border-top-color: var(--fill-color);\n",
              "    }\n",
              "    60% {\n",
              "      border-color: transparent;\n",
              "      border-right-color: var(--fill-color);\n",
              "    }\n",
              "    80% {\n",
              "      border-color: transparent;\n",
              "      border-right-color: var(--fill-color);\n",
              "      border-bottom-color: var(--fill-color);\n",
              "    }\n",
              "    90% {\n",
              "      border-color: transparent;\n",
              "      border-bottom-color: var(--fill-color);\n",
              "    }\n",
              "  }\n",
              "</style>\n",
              "\n",
              "  <script>\n",
              "    async function quickchart(key) {\n",
              "      const quickchartButtonEl =\n",
              "        document.querySelector('#' + key + ' button');\n",
              "      quickchartButtonEl.disabled = true;  // To prevent multiple clicks.\n",
              "      quickchartButtonEl.classList.add('colab-df-spinner');\n",
              "      try {\n",
              "        const charts = await google.colab.kernel.invokeFunction(\n",
              "            'suggestCharts', [key], {});\n",
              "      } catch (error) {\n",
              "        console.error('Error during call to suggestCharts:', error);\n",
              "      }\n",
              "      quickchartButtonEl.classList.remove('colab-df-spinner');\n",
              "      quickchartButtonEl.classList.add('colab-df-quickchart-complete');\n",
              "    }\n",
              "    (() => {\n",
              "      let quickchartButtonEl =\n",
              "        document.querySelector('#df-b9d66d26-5605-4808-942f-0242441f9746 button');\n",
              "      quickchartButtonEl.style.display =\n",
              "        google.colab.kernel.accessAllowed ? 'block' : 'none';\n",
              "    })();\n",
              "  </script>\n",
              "</div>\n",
              "\n",
              "    </div>\n",
              "  </div>\n"
            ],
            "text/plain": [
              "                                                text  target\n",
              "0  Compose an engaging travel blog post about a r...       1\n",
              "1  Imagine you are writing a blog post comparing ...       0\n",
              "2  Write a descriptive paragraph about a bustling...       1\n",
              "3  Could you write a captivating short story begi...       1\n",
              "4  Craft an intriguing opening paragraph for a fi...       0"
            ]
          },
          "execution_count": 39,
          "metadata": {},
          "output_type": "execute_result"
        }
      ],
      "source": [
        "test_data.head()"
      ]
    },
    {
      "cell_type": "markdown",
      "metadata": {
        "id": "aTLXVoHtk6n-"
      },
      "source": [
        "Technically we could use one custom dataest with modifications. We would need one more variable called `mode` to handle the process for train and test sets. Test set has no `target` column. I just copied the dataest and modified it."
      ]
    },
    {
      "cell_type": "code",
      "execution_count": 40,
      "metadata": {
        "execution": {
          "iopub.execute_input": "2024-02-27T16:14:07.729775Z",
          "iopub.status.busy": "2024-02-27T16:14:07.729052Z",
          "iopub.status.idle": "2024-02-27T16:14:27.476255Z",
          "shell.execute_reply": "2024-02-27T16:14:27.475434Z",
          "shell.execute_reply.started": "2024-02-27T16:14:07.729738Z"
        },
        "id": "F1NsBoAFk6n_",
        "trusted": true
      },
      "outputs": [],
      "source": [
        "preds = []\n",
        "for data in test_loader:\n",
        "    mask = data[\"attention_mask\"].to(device)\n",
        "    ids = data[\"input_ids\"].to(device)\n",
        "    with torch.no_grad():\n",
        "        logits = model(ids, token_type_ids=None, attention_mask=mask)[0]\n",
        "        logits = logits.detach().cpu().numpy()\n",
        "        flat_predictions = np.argmax(logits, axis=1).flatten()\n",
        "        preds.extend(flat_predictions)"
      ]
    },
    {
      "cell_type": "code",
      "execution_count": 41,
      "metadata": {
        "colab": {
          "base_uri": "https://localhost:8080/"
        },
        "id": "-p8DWwUMoOvb",
        "outputId": "c2496c85-8f4b-4b14-b66b-d5ccefaf4317"
      },
      "outputs": [
        {
          "name": "stdout",
          "output_type": "stream",
          "text": [
            "preds=Counter({1: 39, 0: 21})\n"
          ]
        }
      ],
      "source": [
        "print(f\"preds={Counter(preds)}\")"
      ]
    },
    {
      "cell_type": "code",
      "execution_count": 42,
      "metadata": {
        "colab": {
          "base_uri": "https://localhost:8080/"
        },
        "id": "dH3gLgds2E06",
        "outputId": "c7e332a0-1d2b-4299-8a83-a2c828f99d5d"
      },
      "outputs": [
        {
          "name": "stdout",
          "output_type": "stream",
          "text": [
            "---TEST METRICS---\n",
            "Metric        Value\n",
            "---------  --------\n",
            "loss       0.500418\n",
            "accuracy   0.733333\n",
            "precision  0.837209\n",
            "recall     0.8\n",
            "f1         0.818182\n"
          ]
        }
      ],
      "source": [
        "# TESTING ON ORIGINAL QUESTIONS\n",
        "test_metrics = get_metrics_and_loss(model, test_loader)\n",
        "print('---TEST METRICS---')\n",
        "print_metrics(test_metrics)\n",
        "\n",
        "with open(f\"{save_directory}/test_metrics.jsonl\", 'w') as fp:\n",
        "    json.dump(test_metrics, fp)\n"
      ]
    },
    {
      "cell_type": "markdown",
      "metadata": {
        "id": "53erA6yShA8c"
      },
      "source": [
        "When `make_balanced = False`, the model has recall that approaches 1, thus `false_negatives` approach 0. This means that the model tends to classify data with `ROUTE_TO_SUPERIOR` label. This is to be expected since the dataset is imbalanced and has more instances of `ROUTE_TO_SUPERIOR`.\n",
        "\n",
        "When `make_balanced = True`, we observe a bit worse accuracy, but the model is now much more balanced with it's predictions. We achieve a performance of around 75%, which means that the model has actually managed to learn from the data and has achieved a good level of understanding of what prompts are easy vs hard and where should they be routed.\n",
        "\n",
        "The reason that the model has not achieved so good results in the training/validation datasets is because the classification levels between the prompts are inherently more difficult. Remember that these data have been produced in an automated manner and the levels of difficulty varies a lot.\n",
        "In contrast, in the test dataset, we have removed questions with label `ROUTE_NOT`, because there was no agreement between humans on which models answered better."
      ]
    },
    {
      "cell_type": "markdown",
      "metadata": {
        "id": "kO263Mv_t5bs"
      },
      "source": [
        "## Loading model and Inference"
      ]
    },
    {
      "cell_type": "markdown",
      "metadata": {
        "id": "4v-8H_WoHdA9"
      },
      "source": [
        "In this section, I'm showing the way to load the saved model for future use."
      ]
    },
    {
      "cell_type": "code",
      "execution_count": 43,
      "metadata": {
        "colab": {
          "base_uri": "https://localhost:8080/"
        },
        "id": "rU3RsbeJHNjp",
        "outputId": "6a69c150-eca8-4f6e-f0f7-9216886b9410"
      },
      "outputs": [
        {
          "data": {
            "text/plain": [
              "BertForSequenceClassification(\n",
              "  (bert): BertModel(\n",
              "    (embeddings): BertEmbeddings(\n",
              "      (word_embeddings): Embedding(30522, 768, padding_idx=0)\n",
              "      (position_embeddings): Embedding(512, 768)\n",
              "      (token_type_embeddings): Embedding(2, 768)\n",
              "      (LayerNorm): LayerNorm((768,), eps=1e-12, elementwise_affine=True)\n",
              "      (dropout): Dropout(p=0.1, inplace=False)\n",
              "    )\n",
              "    (encoder): BertEncoder(\n",
              "      (layer): ModuleList(\n",
              "        (0-11): 12 x BertLayer(\n",
              "          (attention): BertAttention(\n",
              "            (self): BertSdpaSelfAttention(\n",
              "              (query): Linear(in_features=768, out_features=768, bias=True)\n",
              "              (key): Linear(in_features=768, out_features=768, bias=True)\n",
              "              (value): Linear(in_features=768, out_features=768, bias=True)\n",
              "              (dropout): Dropout(p=0.1, inplace=False)\n",
              "            )\n",
              "            (output): BertSelfOutput(\n",
              "              (dense): Linear(in_features=768, out_features=768, bias=True)\n",
              "              (LayerNorm): LayerNorm((768,), eps=1e-12, elementwise_affine=True)\n",
              "              (dropout): Dropout(p=0.1, inplace=False)\n",
              "            )\n",
              "          )\n",
              "          (intermediate): BertIntermediate(\n",
              "            (dense): Linear(in_features=768, out_features=3072, bias=True)\n",
              "            (intermediate_act_fn): GELUActivation()\n",
              "          )\n",
              "          (output): BertOutput(\n",
              "            (dense): Linear(in_features=3072, out_features=768, bias=True)\n",
              "            (LayerNorm): LayerNorm((768,), eps=1e-12, elementwise_affine=True)\n",
              "            (dropout): Dropout(p=0.1, inplace=False)\n",
              "          )\n",
              "        )\n",
              "      )\n",
              "    )\n",
              "    (pooler): BertPooler(\n",
              "      (dense): Linear(in_features=768, out_features=768, bias=True)\n",
              "      (activation): Tanh()\n",
              "    )\n",
              "  )\n",
              "  (dropout): Dropout(p=0.1, inplace=False)\n",
              "  (classifier): Linear(in_features=768, out_features=2, bias=True)\n",
              ")"
            ]
          },
          "execution_count": 43,
          "metadata": {},
          "output_type": "execute_result"
        }
      ],
      "source": [
        "loaded_model = BertForSequenceClassification.from_pretrained(save_directory)\n",
        "loaded_model.to(device)"
      ]
    },
    {
      "cell_type": "code",
      "execution_count": 44,
      "metadata": {
        "colab": {
          "base_uri": "https://localhost:8080/"
        },
        "id": "dBgrFZG8HcqB",
        "outputId": "76098e74-3c82-41a8-e926-ba33f1ee1fb1"
      },
      "outputs": [
        {
          "name": "stdout",
          "output_type": "stream",
          "text": [
            "---TEST METRICS---\n",
            "Metric        Value\n",
            "---------  --------\n",
            "loss       0.500418\n",
            "accuracy   0.733333\n",
            "precision  0.837209\n",
            "recall     0.8\n",
            "f1         0.818182\n"
          ]
        }
      ],
      "source": [
        "# TESTING AGAIN ON ORIGINAL QUESTIONS WITH LOADED MODEL\n",
        "test_metrics = get_metrics_and_loss(loaded_model, test_loader)\n",
        "print('---TEST METRICS---')\n",
        "print_metrics(test_metrics)\n"
      ]
    },
    {
      "cell_type": "markdown",
      "metadata": {
        "id": "mFHKzhFiCvzh"
      },
      "source": [
        "Now for inference, we create a new dataset accessor that takes as input a dataframe of only one column `text` (this time, the data contain no `target`)"
      ]
    },
    {
      "cell_type": "code",
      "execution_count": 45,
      "metadata": {
        "id": "WYv9T5-n7Fal"
      },
      "outputs": [],
      "source": [
        "data = [\n",
        "    \"Compose an engaging travel blog post about a recent trip to Hawaii, highlighting cultural experiences and must-see attractions.\",\n",
        "    \"Which word does not belong with the others?\\ntyre, steering wheel, car, engine\",\n",
        "    \"Help me construct a catchy, yet scientifically accurate, headline for an article on the latest discovery in renewable bio-energy, while carefully handling the ethical dilemmas surrounding bio-energy sources. Propose 4 options.\"\n",
        "]"
      ]
    },
    {
      "cell_type": "code",
      "execution_count": 46,
      "metadata": {
        "id": "I5Fp8E69BaNf"
      },
      "outputs": [],
      "source": [
        "# similar to the previous definition of dataset, without the target\n",
        "class InferenceDataset(Dataset):\n",
        "    def __init__(self, dataframe, max_length=512, tokenizer_name='bert-base-uncased'):\n",
        "        self.texts = dataframe['text'].values\n",
        "        self.tokenizer = AutoTokenizer.from_pretrained(tokenizer_name)\n",
        "        self.max_length = max_length\n",
        "\n",
        "    def __len__(self):\n",
        "        return len(self.texts)\n",
        "\n",
        "    def __getitem__(self, idx):\n",
        "        text = self.texts[idx]\n",
        "        encoding = self.tokenizer.encode_plus(\n",
        "            text,\n",
        "            add_special_tokens=True,\n",
        "            max_length=self.max_length,\n",
        "            padding='max_length',\n",
        "            truncation=True,\n",
        "            return_attention_mask=True,\n",
        "            return_tensors='pt'\n",
        "        )\n",
        "        input_ids = encoding['input_ids'].flatten()\n",
        "        attention_mask = encoding['attention_mask'].flatten()\n",
        "\n",
        "        return {\n",
        "            'input_ids': torch.as_tensor(input_ids, dtype=torch.long),\n",
        "            'attention_mask': torch.as_tensor(attention_mask, dtype=torch.long),\n",
        "        }"
      ]
    },
    {
      "cell_type": "code",
      "execution_count": 47,
      "metadata": {
        "id": "ezHNna7y94lV"
      },
      "outputs": [],
      "source": [
        "inference_data = pd.DataFrame({'text': data})\n",
        "\n",
        "inference_dataset = InferenceDataset(inference_data, tokenizer_name=HF_MODEL_NAME)\n",
        "\n",
        "inference_loader = DataLoader(inference_dataset, batch_size=8)"
      ]
    },
    {
      "cell_type": "code",
      "execution_count": 48,
      "metadata": {
        "id": "DrbXQvbmCLnE"
      },
      "outputs": [],
      "source": [
        "def inference(model, data_loader):\n",
        "    predictions = []\n",
        "    for data in data_loader:\n",
        "        mask = data[\"attention_mask\"].to(device)\n",
        "        ids = data[\"input_ids\"].to(device)\n",
        "        with torch.no_grad():\n",
        "            logits = model(ids, token_type_ids=None, attention_mask=mask)[0]\n",
        "            logits = logits.detach().cpu().numpy()\n",
        "            flat_predictions = np.argmax(logits, axis=1).flatten()\n",
        "            predictions.extend(flat_predictions)\n",
        "    return predictions"
      ]
    },
    {
      "cell_type": "code",
      "execution_count": 49,
      "metadata": {
        "colab": {
          "base_uri": "https://localhost:8080/"
        },
        "id": "8WIEBv5_82s2",
        "outputId": "05ac9710-d0d1-4957-f722-d8d4c8e25b96"
      },
      "outputs": [
        {
          "name": "stdout",
          "output_type": "stream",
          "text": [
            "predictions=[1, 0, 1]\n"
          ]
        }
      ],
      "source": [
        "predictions = inference(loaded_model, inference_loader)\n",
        "print(f\"{predictions=}\")"
      ]
    },
    {
      "cell_type": "markdown",
      "metadata": {
        "id": "RaAJmJ2BuG84"
      },
      "source": [
        "END OF PROJECT"
      ]
    }
  ],
  "metadata": {
    "accelerator": "GPU",
    "colab": {
      "gpuType": "L4",
      "machine_shape": "hm",
      "provenance": []
    },
    "kaggle": {
      "accelerator": "gpu",
      "dataSources": [
        {
          "databundleVersionId": 869809,
          "sourceId": 17777,
          "sourceType": "competition"
        }
      ],
      "dockerImageVersionId": 30646,
      "isGpuEnabled": true,
      "isInternetEnabled": true,
      "language": "python",
      "sourceType": "notebook"
    },
    "kernelspec": {
      "display_name": "Python 3",
      "name": "python3"
    },
    "language_info": {
      "codemirror_mode": {
        "name": "ipython",
        "version": 3
      },
      "file_extension": ".py",
      "mimetype": "text/x-python",
      "name": "python",
      "nbconvert_exporter": "python",
      "pygments_lexer": "ipython3",
      "version": "3.10.13"
    }
  },
  "nbformat": 4,
  "nbformat_minor": 0
}
